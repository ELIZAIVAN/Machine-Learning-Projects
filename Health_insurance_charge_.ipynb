{
  "nbformat": 4,
  "nbformat_minor": 0,
  "metadata": {
    "colab": {
      "provenance": [],
      "authorship_tag": "ABX9TyO5TxSVcWG5ppRT15zMCZ0E",
      "include_colab_link": true
    },
    "kernelspec": {
      "name": "python3",
      "display_name": "Python 3"
    },
    "language_info": {
      "name": "python"
    }
  },
  "cells": [
    {
      "cell_type": "markdown",
      "metadata": {
        "id": "view-in-github",
        "colab_type": "text"
      },
      "source": [
        "<a href=\"https://colab.research.google.com/github/ELIZAIVAN/Machine-Learning-Projects/blob/master/Health_insurance_charge_.ipynb\" target=\"_parent\"><img src=\"https://colab.research.google.com/assets/colab-badge.svg\" alt=\"Open In Colab\"/></a>"
      ]
    },
    {
      "cell_type": "markdown",
      "source": [
        "**Importing the libraries**"
      ],
      "metadata": {
        "id": "dUo-YczVCsEA"
      }
    },
    {
      "cell_type": "code",
      "execution_count": null,
      "metadata": {
        "id": "aKUs99FmCGSV"
      },
      "outputs": [],
      "source": [
        "import pandas as pd\n",
        "import numpy as np\n",
        "import matplotlib.pyplot as plt\n",
        "import seaborn as sns\n",
        "import plotly.express as px\n",
        "import warnings\n",
        "warnings.filterwarnings('ignore')\n",
        "from sklearn.preprocessing import LabelEncoder\n",
        "from sklearn.preprocessing import MinMaxScaler\n",
        "from sklearn.model_selection import train_test_split\n",
        "from sklearn.linear_model import LinearRegression\n",
        "from sklearn.ensemble import RandomForestRegressor\n",
        "from sklearn.ensemble import AdaBoostRegressor\n",
        "from sklearn.ensemble import GradientBoostingRegressor\n",
        "from xgboost import XGBRegressor"
      ]
    },
    {
      "cell_type": "code",
      "source": [
        "df=pd.read_csv('/content/insurance.csv')\n",
        "df"
      ],
      "metadata": {
        "colab": {
          "base_uri": "https://localhost:8080/",
          "height": 423
        },
        "id": "_0ZqnxVyDjiP",
        "outputId": "3b51dc7e-8aea-4859-837c-1fb560e227ec"
      },
      "execution_count": null,
      "outputs": [
        {
          "output_type": "execute_result",
          "data": {
            "text/plain": [
              "      age     sex     bmi  children smoker     region      charges\n",
              "0      19  female  27.900         0    yes  southwest  16884.92400\n",
              "1      18    male  33.770         1     no  southeast   1725.55230\n",
              "2      28    male  33.000         3     no  southeast   4449.46200\n",
              "3      33    male  22.705         0     no  northwest  21984.47061\n",
              "4      32    male  28.880         0     no  northwest   3866.85520\n",
              "...   ...     ...     ...       ...    ...        ...          ...\n",
              "1333   50    male  30.970         3     no  northwest  10600.54830\n",
              "1334   18  female  31.920         0     no  northeast   2205.98080\n",
              "1335   18  female  36.850         0     no  southeast   1629.83350\n",
              "1336   21  female  25.800         0     no  southwest   2007.94500\n",
              "1337   61  female  29.070         0    yes  northwest  29141.36030\n",
              "\n",
              "[1338 rows x 7 columns]"
            ],
            "text/html": [
              "\n",
              "\n",
              "  <div id=\"df-271f006c-bcdf-46d7-ab8d-dfc88129fc83\">\n",
              "    <div class=\"colab-df-container\">\n",
              "      <div>\n",
              "<style scoped>\n",
              "    .dataframe tbody tr th:only-of-type {\n",
              "        vertical-align: middle;\n",
              "    }\n",
              "\n",
              "    .dataframe tbody tr th {\n",
              "        vertical-align: top;\n",
              "    }\n",
              "\n",
              "    .dataframe thead th {\n",
              "        text-align: right;\n",
              "    }\n",
              "</style>\n",
              "<table border=\"1\" class=\"dataframe\">\n",
              "  <thead>\n",
              "    <tr style=\"text-align: right;\">\n",
              "      <th></th>\n",
              "      <th>age</th>\n",
              "      <th>sex</th>\n",
              "      <th>bmi</th>\n",
              "      <th>children</th>\n",
              "      <th>smoker</th>\n",
              "      <th>region</th>\n",
              "      <th>charges</th>\n",
              "    </tr>\n",
              "  </thead>\n",
              "  <tbody>\n",
              "    <tr>\n",
              "      <th>0</th>\n",
              "      <td>19</td>\n",
              "      <td>female</td>\n",
              "      <td>27.900</td>\n",
              "      <td>0</td>\n",
              "      <td>yes</td>\n",
              "      <td>southwest</td>\n",
              "      <td>16884.92400</td>\n",
              "    </tr>\n",
              "    <tr>\n",
              "      <th>1</th>\n",
              "      <td>18</td>\n",
              "      <td>male</td>\n",
              "      <td>33.770</td>\n",
              "      <td>1</td>\n",
              "      <td>no</td>\n",
              "      <td>southeast</td>\n",
              "      <td>1725.55230</td>\n",
              "    </tr>\n",
              "    <tr>\n",
              "      <th>2</th>\n",
              "      <td>28</td>\n",
              "      <td>male</td>\n",
              "      <td>33.000</td>\n",
              "      <td>3</td>\n",
              "      <td>no</td>\n",
              "      <td>southeast</td>\n",
              "      <td>4449.46200</td>\n",
              "    </tr>\n",
              "    <tr>\n",
              "      <th>3</th>\n",
              "      <td>33</td>\n",
              "      <td>male</td>\n",
              "      <td>22.705</td>\n",
              "      <td>0</td>\n",
              "      <td>no</td>\n",
              "      <td>northwest</td>\n",
              "      <td>21984.47061</td>\n",
              "    </tr>\n",
              "    <tr>\n",
              "      <th>4</th>\n",
              "      <td>32</td>\n",
              "      <td>male</td>\n",
              "      <td>28.880</td>\n",
              "      <td>0</td>\n",
              "      <td>no</td>\n",
              "      <td>northwest</td>\n",
              "      <td>3866.85520</td>\n",
              "    </tr>\n",
              "    <tr>\n",
              "      <th>...</th>\n",
              "      <td>...</td>\n",
              "      <td>...</td>\n",
              "      <td>...</td>\n",
              "      <td>...</td>\n",
              "      <td>...</td>\n",
              "      <td>...</td>\n",
              "      <td>...</td>\n",
              "    </tr>\n",
              "    <tr>\n",
              "      <th>1333</th>\n",
              "      <td>50</td>\n",
              "      <td>male</td>\n",
              "      <td>30.970</td>\n",
              "      <td>3</td>\n",
              "      <td>no</td>\n",
              "      <td>northwest</td>\n",
              "      <td>10600.54830</td>\n",
              "    </tr>\n",
              "    <tr>\n",
              "      <th>1334</th>\n",
              "      <td>18</td>\n",
              "      <td>female</td>\n",
              "      <td>31.920</td>\n",
              "      <td>0</td>\n",
              "      <td>no</td>\n",
              "      <td>northeast</td>\n",
              "      <td>2205.98080</td>\n",
              "    </tr>\n",
              "    <tr>\n",
              "      <th>1335</th>\n",
              "      <td>18</td>\n",
              "      <td>female</td>\n",
              "      <td>36.850</td>\n",
              "      <td>0</td>\n",
              "      <td>no</td>\n",
              "      <td>southeast</td>\n",
              "      <td>1629.83350</td>\n",
              "    </tr>\n",
              "    <tr>\n",
              "      <th>1336</th>\n",
              "      <td>21</td>\n",
              "      <td>female</td>\n",
              "      <td>25.800</td>\n",
              "      <td>0</td>\n",
              "      <td>no</td>\n",
              "      <td>southwest</td>\n",
              "      <td>2007.94500</td>\n",
              "    </tr>\n",
              "    <tr>\n",
              "      <th>1337</th>\n",
              "      <td>61</td>\n",
              "      <td>female</td>\n",
              "      <td>29.070</td>\n",
              "      <td>0</td>\n",
              "      <td>yes</td>\n",
              "      <td>northwest</td>\n",
              "      <td>29141.36030</td>\n",
              "    </tr>\n",
              "  </tbody>\n",
              "</table>\n",
              "<p>1338 rows × 7 columns</p>\n",
              "</div>\n",
              "      <button class=\"colab-df-convert\" onclick=\"convertToInteractive('df-271f006c-bcdf-46d7-ab8d-dfc88129fc83')\"\n",
              "              title=\"Convert this dataframe to an interactive table.\"\n",
              "              style=\"display:none;\">\n",
              "\n",
              "  <svg xmlns=\"http://www.w3.org/2000/svg\" height=\"24px\"viewBox=\"0 0 24 24\"\n",
              "       width=\"24px\">\n",
              "    <path d=\"M0 0h24v24H0V0z\" fill=\"none\"/>\n",
              "    <path d=\"M18.56 5.44l.94 2.06.94-2.06 2.06-.94-2.06-.94-.94-2.06-.94 2.06-2.06.94zm-11 1L8.5 8.5l.94-2.06 2.06-.94-2.06-.94L8.5 2.5l-.94 2.06-2.06.94zm10 10l.94 2.06.94-2.06 2.06-.94-2.06-.94-.94-2.06-.94 2.06-2.06.94z\"/><path d=\"M17.41 7.96l-1.37-1.37c-.4-.4-.92-.59-1.43-.59-.52 0-1.04.2-1.43.59L10.3 9.45l-7.72 7.72c-.78.78-.78 2.05 0 2.83L4 21.41c.39.39.9.59 1.41.59.51 0 1.02-.2 1.41-.59l7.78-7.78 2.81-2.81c.8-.78.8-2.07 0-2.86zM5.41 20L4 18.59l7.72-7.72 1.47 1.35L5.41 20z\"/>\n",
              "  </svg>\n",
              "      </button>\n",
              "\n",
              "\n",
              "\n",
              "    <div id=\"df-da209d5d-e6b5-4563-803a-3ea326ba7676\">\n",
              "      <button class=\"colab-df-quickchart\" onclick=\"quickchart('df-da209d5d-e6b5-4563-803a-3ea326ba7676')\"\n",
              "              title=\"Suggest charts.\"\n",
              "              style=\"display:none;\">\n",
              "\n",
              "<svg xmlns=\"http://www.w3.org/2000/svg\" height=\"24px\"viewBox=\"0 0 24 24\"\n",
              "     width=\"24px\">\n",
              "    <g>\n",
              "        <path d=\"M19 3H5c-1.1 0-2 .9-2 2v14c0 1.1.9 2 2 2h14c1.1 0 2-.9 2-2V5c0-1.1-.9-2-2-2zM9 17H7v-7h2v7zm4 0h-2V7h2v10zm4 0h-2v-4h2v4z\"/>\n",
              "    </g>\n",
              "</svg>\n",
              "      </button>\n",
              "    </div>\n",
              "\n",
              "<style>\n",
              "  .colab-df-quickchart {\n",
              "    background-color: #E8F0FE;\n",
              "    border: none;\n",
              "    border-radius: 50%;\n",
              "    cursor: pointer;\n",
              "    display: none;\n",
              "    fill: #1967D2;\n",
              "    height: 32px;\n",
              "    padding: 0 0 0 0;\n",
              "    width: 32px;\n",
              "  }\n",
              "\n",
              "  .colab-df-quickchart:hover {\n",
              "    background-color: #E2EBFA;\n",
              "    box-shadow: 0px 1px 2px rgba(60, 64, 67, 0.3), 0px 1px 3px 1px rgba(60, 64, 67, 0.15);\n",
              "    fill: #174EA6;\n",
              "  }\n",
              "\n",
              "  [theme=dark] .colab-df-quickchart {\n",
              "    background-color: #3B4455;\n",
              "    fill: #D2E3FC;\n",
              "  }\n",
              "\n",
              "  [theme=dark] .colab-df-quickchart:hover {\n",
              "    background-color: #434B5C;\n",
              "    box-shadow: 0px 1px 3px 1px rgba(0, 0, 0, 0.15);\n",
              "    filter: drop-shadow(0px 1px 2px rgba(0, 0, 0, 0.3));\n",
              "    fill: #FFFFFF;\n",
              "  }\n",
              "</style>\n",
              "\n",
              "    <script>\n",
              "      async function quickchart(key) {\n",
              "        const containerElement = document.querySelector('#' + key);\n",
              "        const charts = await google.colab.kernel.invokeFunction(\n",
              "            'suggestCharts', [key], {});\n",
              "      }\n",
              "    </script>\n",
              "\n",
              "      <script>\n",
              "\n",
              "function displayQuickchartButton(domScope) {\n",
              "  let quickchartButtonEl =\n",
              "    domScope.querySelector('#df-da209d5d-e6b5-4563-803a-3ea326ba7676 button.colab-df-quickchart');\n",
              "  quickchartButtonEl.style.display =\n",
              "    google.colab.kernel.accessAllowed ? 'block' : 'none';\n",
              "}\n",
              "\n",
              "        displayQuickchartButton(document);\n",
              "      </script>\n",
              "      <style>\n",
              "    .colab-df-container {\n",
              "      display:flex;\n",
              "      flex-wrap:wrap;\n",
              "      gap: 12px;\n",
              "    }\n",
              "\n",
              "    .colab-df-convert {\n",
              "      background-color: #E8F0FE;\n",
              "      border: none;\n",
              "      border-radius: 50%;\n",
              "      cursor: pointer;\n",
              "      display: none;\n",
              "      fill: #1967D2;\n",
              "      height: 32px;\n",
              "      padding: 0 0 0 0;\n",
              "      width: 32px;\n",
              "    }\n",
              "\n",
              "    .colab-df-convert:hover {\n",
              "      background-color: #E2EBFA;\n",
              "      box-shadow: 0px 1px 2px rgba(60, 64, 67, 0.3), 0px 1px 3px 1px rgba(60, 64, 67, 0.15);\n",
              "      fill: #174EA6;\n",
              "    }\n",
              "\n",
              "    [theme=dark] .colab-df-convert {\n",
              "      background-color: #3B4455;\n",
              "      fill: #D2E3FC;\n",
              "    }\n",
              "\n",
              "    [theme=dark] .colab-df-convert:hover {\n",
              "      background-color: #434B5C;\n",
              "      box-shadow: 0px 1px 3px 1px rgba(0, 0, 0, 0.15);\n",
              "      filter: drop-shadow(0px 1px 2px rgba(0, 0, 0, 0.3));\n",
              "      fill: #FFFFFF;\n",
              "    }\n",
              "  </style>\n",
              "\n",
              "      <script>\n",
              "        const buttonEl =\n",
              "          document.querySelector('#df-271f006c-bcdf-46d7-ab8d-dfc88129fc83 button.colab-df-convert');\n",
              "        buttonEl.style.display =\n",
              "          google.colab.kernel.accessAllowed ? 'block' : 'none';\n",
              "\n",
              "        async function convertToInteractive(key) {\n",
              "          const element = document.querySelector('#df-271f006c-bcdf-46d7-ab8d-dfc88129fc83');\n",
              "          const dataTable =\n",
              "            await google.colab.kernel.invokeFunction('convertToInteractive',\n",
              "                                                     [key], {});\n",
              "          if (!dataTable) return;\n",
              "\n",
              "          const docLinkHtml = 'Like what you see? Visit the ' +\n",
              "            '<a target=\"_blank\" href=https://colab.research.google.com/notebooks/data_table.ipynb>data table notebook</a>'\n",
              "            + ' to learn more about interactive tables.';\n",
              "          element.innerHTML = '';\n",
              "          dataTable['output_type'] = 'display_data';\n",
              "          await google.colab.output.renderOutput(dataTable, element);\n",
              "          const docLink = document.createElement('div');\n",
              "          docLink.innerHTML = docLinkHtml;\n",
              "          element.appendChild(docLink);\n",
              "        }\n",
              "      </script>\n",
              "    </div>\n",
              "  </div>\n"
            ]
          },
          "metadata": {},
          "execution_count": 2
        }
      ]
    },
    {
      "cell_type": "code",
      "source": [
        "df['charges'].value_counts()"
      ],
      "metadata": {
        "colab": {
          "base_uri": "https://localhost:8080/"
        },
        "id": "tbtvncUK-NPu",
        "outputId": "b47d6421-07eb-44fc-f79f-0b19faca90e9"
      },
      "execution_count": null,
      "outputs": [
        {
          "output_type": "execute_result",
          "data": {
            "text/plain": [
              "1639.56310     2\n",
              "16884.92400    1\n",
              "29330.98315    1\n",
              "2221.56445     1\n",
              "19798.05455    1\n",
              "              ..\n",
              "7345.08400     1\n",
              "26109.32905    1\n",
              "28287.89766    1\n",
              "1149.39590     1\n",
              "29141.36030    1\n",
              "Name: charges, Length: 1337, dtype: int64"
            ]
          },
          "metadata": {},
          "execution_count": 3
        }
      ]
    },
    {
      "cell_type": "code",
      "source": [
        "df['sex'].value_counts()"
      ],
      "metadata": {
        "colab": {
          "base_uri": "https://localhost:8080/"
        },
        "id": "qzok_5F2AxjG",
        "outputId": "460f0ecf-c3cd-4699-9994-50af4b350045"
      },
      "execution_count": null,
      "outputs": [
        {
          "output_type": "execute_result",
          "data": {
            "text/plain": [
              "male      676\n",
              "female    662\n",
              "Name: sex, dtype: int64"
            ]
          },
          "metadata": {},
          "execution_count": 4
        }
      ]
    },
    {
      "cell_type": "code",
      "source": [
        "df['age'].value_counts()"
      ],
      "metadata": {
        "colab": {
          "base_uri": "https://localhost:8080/"
        },
        "id": "Emmr2xd_J28S",
        "outputId": "9a989498-314c-4a79-991d-6d51ccefa49d"
      },
      "execution_count": null,
      "outputs": [
        {
          "output_type": "execute_result",
          "data": {
            "text/plain": [
              "18    69\n",
              "19    68\n",
              "50    29\n",
              "51    29\n",
              "47    29\n",
              "46    29\n",
              "45    29\n",
              "20    29\n",
              "48    29\n",
              "52    29\n",
              "22    28\n",
              "49    28\n",
              "54    28\n",
              "53    28\n",
              "21    28\n",
              "26    28\n",
              "24    28\n",
              "25    28\n",
              "28    28\n",
              "27    28\n",
              "23    28\n",
              "43    27\n",
              "29    27\n",
              "30    27\n",
              "41    27\n",
              "42    27\n",
              "44    27\n",
              "31    27\n",
              "40    27\n",
              "32    26\n",
              "33    26\n",
              "56    26\n",
              "34    26\n",
              "55    26\n",
              "57    26\n",
              "37    25\n",
              "59    25\n",
              "58    25\n",
              "36    25\n",
              "38    25\n",
              "35    25\n",
              "39    25\n",
              "61    23\n",
              "60    23\n",
              "63    23\n",
              "62    23\n",
              "64    22\n",
              "Name: age, dtype: int64"
            ]
          },
          "metadata": {},
          "execution_count": 5
        }
      ]
    },
    {
      "cell_type": "code",
      "source": [
        "df['region'].value_counts()"
      ],
      "metadata": {
        "colab": {
          "base_uri": "https://localhost:8080/"
        },
        "id": "ho7XKeTsKFqh",
        "outputId": "6ce12dcd-3834-430b-e7b7-c8864418ff91"
      },
      "execution_count": null,
      "outputs": [
        {
          "output_type": "execute_result",
          "data": {
            "text/plain": [
              "southeast    364\n",
              "southwest    325\n",
              "northwest    325\n",
              "northeast    324\n",
              "Name: region, dtype: int64"
            ]
          },
          "metadata": {},
          "execution_count": 6
        }
      ]
    },
    {
      "cell_type": "code",
      "source": [
        "df1=df.copy()"
      ],
      "metadata": {
        "id": "-jUmhZP44Ppw"
      },
      "execution_count": null,
      "outputs": []
    },
    {
      "cell_type": "code",
      "source": [
        "df.isna().sum()"
      ],
      "metadata": {
        "colab": {
          "base_uri": "https://localhost:8080/"
        },
        "id": "xLgYdwhZD6PO",
        "outputId": "c8f86f5a-76a8-4687-c865-776c665991df"
      },
      "execution_count": null,
      "outputs": [
        {
          "output_type": "execute_result",
          "data": {
            "text/plain": [
              "age         0\n",
              "sex         0\n",
              "bmi         0\n",
              "children    0\n",
              "smoker      0\n",
              "region      0\n",
              "charges     0\n",
              "dtype: int64"
            ]
          },
          "metadata": {},
          "execution_count": 8
        }
      ]
    },
    {
      "cell_type": "code",
      "source": [
        "df.dtypes"
      ],
      "metadata": {
        "colab": {
          "base_uri": "https://localhost:8080/"
        },
        "id": "9XgAxOjHD-4f",
        "outputId": "d2ca38a9-b218-4c4c-b07d-be2995564680"
      },
      "execution_count": null,
      "outputs": [
        {
          "output_type": "execute_result",
          "data": {
            "text/plain": [
              "age           int64\n",
              "sex          object\n",
              "bmi         float64\n",
              "children      int64\n",
              "smoker       object\n",
              "region       object\n",
              "charges     float64\n",
              "dtype: object"
            ]
          },
          "metadata": {},
          "execution_count": 9
        }
      ]
    },
    {
      "cell_type": "code",
      "source": [
        "#correlation between variables\n",
        "#heat map\n",
        "import seaborn as sns\n",
        "import matplotlib.pyplot as plt\n",
        "fig,ax=plt.subplots(1,1,figsize=(8,4))\n",
        "sns.heatmap(df.corr(),annot=True,linewidths=1)\n",
        "plt.show()"
      ],
      "metadata": {
        "colab": {
          "base_uri": "https://localhost:8080/",
          "height": 374
        },
        "id": "gvJY37_zEDNH",
        "outputId": "43c9fdfb-dd0f-4739-e791-28ed6c40533d"
      },
      "execution_count": null,
      "outputs": [
        {
          "output_type": "display_data",
          "data": {
            "text/plain": [
              "<Figure size 800x400 with 2 Axes>"
            ],
            "image/png": "[encoded data removed]"
          },
          "metadata": {}
        }
      ]
    },
    {
      "cell_type": "code",
      "source": [
        "#Label encoding\n",
        "from sklearn.preprocessing import LabelEncoder\n",
        "le=LabelEncoder()\n",
        "lst=['sex','smoker','region']\n",
        "for i in lst:\n",
        "  df[i]=le.fit_transform(df[i])"
      ],
      "metadata": {
        "id": "pqidDY95FN0O"
      },
      "execution_count": null,
      "outputs": []
    },
    {
      "cell_type": "code",
      "source": [
        "df.dtypes"
      ],
      "metadata": {
        "colab": {
          "base_uri": "https://localhost:8080/"
        },
        "id": "ZfcXLdG2GF2O",
        "outputId": "9c76a40f-ed02-4be6-ea18-4327d792fd5e"
      },
      "execution_count": null,
      "outputs": [
        {
          "output_type": "execute_result",
          "data": {
            "text/plain": [
              "age           int64\n",
              "sex           int64\n",
              "bmi         float64\n",
              "children      int64\n",
              "smoker        int64\n",
              "region        int64\n",
              "charges     float64\n",
              "dtype: object"
            ]
          },
          "metadata": {},
          "execution_count": 12
        }
      ]
    },
    {
      "cell_type": "code",
      "source": [
        "# Calculate the correlation matrix\n",
        "correlation_matrix = df.corr()\n",
        "\n",
        "# Find features with high correlation\n",
        "threshold = 0.5  # Adjust the threshold as needed\n",
        "highly_correlated_features = np.where(np.abs(correlation_matrix) > threshold)\n",
        "\n",
        "# Print the highly correlated features\n",
        "for feature1, feature2 in zip(highly_correlated_features[0], highly_correlated_features[1]):\n",
        "    if feature1 != feature2:\n",
        "        print(f\"{df.columns[feature1]} and {df.columns[feature2]} are highly correlated.\")"
      ],
      "metadata": {
        "colab": {
          "base_uri": "https://localhost:8080/"
        },
        "id": "0P0D2z8OTZ5X",
        "outputId": "bf5a2fe1-7bfa-4362-aa91-a358787c4406"
      },
      "execution_count": null,
      "outputs": [
        {
          "output_type": "stream",
          "name": "stdout",
          "text": [
            "smoker and charges are highly correlated.\n",
            "charges and smoker are highly correlated.\n"
          ]
        }
      ]
    },
    {
      "cell_type": "code",
      "source": [
        "df.head()"
      ],
      "metadata": {
        "colab": {
          "base_uri": "https://localhost:8080/",
          "height": 206
        },
        "id": "2UhpisnsGdR-",
        "outputId": "2f042acb-3c07-47ab-e698-d00badcdd5fe"
      },
      "execution_count": null,
      "outputs": [
        {
          "output_type": "execute_result",
          "data": {
            "text/plain": [
              "   age  sex     bmi  children  smoker  region      charges\n",
              "0   19    0  27.900         0       1       3  16884.92400\n",
              "1   18    1  33.770         1       0       2   1725.55230\n",
              "2   28    1  33.000         3       0       2   4449.46200\n",
              "3   33    1  22.705         0       0       1  21984.47061\n",
              "4   32    1  28.880         0       0       1   3866.85520"
            ],
            "text/html": [
              "\n",
              "\n",
              "  <div id=\"df-583e48d8-6f15-4265-a8de-9a8b91f0ce8b\">\n",
              "    <div class=\"colab-df-container\">\n",
              "      <div>\n",
              "<style scoped>\n",
              "    .dataframe tbody tr th:only-of-type {\n",
              "        vertical-align: middle;\n",
              "    }\n",
              "\n",
              "    .dataframe tbody tr th {\n",
              "        vertical-align: top;\n",
              "    }\n",
              "\n",
              "    .dataframe thead th {\n",
              "        text-align: right;\n",
              "    }\n",
              "</style>\n",
              "<table border=\"1\" class=\"dataframe\">\n",
              "  <thead>\n",
              "    <tr style=\"text-align: right;\">\n",
              "      <th></th>\n",
              "      <th>age</th>\n",
              "      <th>sex</th>\n",
              "      <th>bmi</th>\n",
              "      <th>children</th>\n",
              "      <th>smoker</th>\n",
              "      <th>region</th>\n",
              "      <th>charges</th>\n",
              "    </tr>\n",
              "  </thead>\n",
              "  <tbody>\n",
              "    <tr>\n",
              "      <th>0</th>\n",
              "      <td>19</td>\n",
              "      <td>0</td>\n",
              "      <td>27.900</td>\n",
              "      <td>0</td>\n",
              "      <td>1</td>\n",
              "      <td>3</td>\n",
              "      <td>16884.92400</td>\n",
              "    </tr>\n",
              "    <tr>\n",
              "      <th>1</th>\n",
              "      <td>18</td>\n",
              "      <td>1</td>\n",
              "      <td>33.770</td>\n",
              "      <td>1</td>\n",
              "      <td>0</td>\n",
              "      <td>2</td>\n",
              "      <td>1725.55230</td>\n",
              "    </tr>\n",
              "    <tr>\n",
              "      <th>2</th>\n",
              "      <td>28</td>\n",
              "      <td>1</td>\n",
              "      <td>33.000</td>\n",
              "      <td>3</td>\n",
              "      <td>0</td>\n",
              "      <td>2</td>\n",
              "      <td>4449.46200</td>\n",
              "    </tr>\n",
              "    <tr>\n",
              "      <th>3</th>\n",
              "      <td>33</td>\n",
              "      <td>1</td>\n",
              "      <td>22.705</td>\n",
              "      <td>0</td>\n",
              "      <td>0</td>\n",
              "      <td>1</td>\n",
              "      <td>21984.47061</td>\n",
              "    </tr>\n",
              "    <tr>\n",
              "      <th>4</th>\n",
              "      <td>32</td>\n",
              "      <td>1</td>\n",
              "      <td>28.880</td>\n",
              "      <td>0</td>\n",
              "      <td>0</td>\n",
              "      <td>1</td>\n",
              "      <td>3866.85520</td>\n",
              "    </tr>\n",
              "  </tbody>\n",
              "</table>\n",
              "</div>\n",
              "      <button class=\"colab-df-convert\" onclick=\"convertToInteractive('df-583e48d8-6f15-4265-a8de-9a8b91f0ce8b')\"\n",
              "              title=\"Convert this dataframe to an interactive table.\"\n",
              "              style=\"display:none;\">\n",
              "\n",
              "  <svg xmlns=\"http://www.w3.org/2000/svg\" height=\"24px\"viewBox=\"0 0 24 24\"\n",
              "       width=\"24px\">\n",
              "    <path d=\"M0 0h24v24H0V0z\" fill=\"none\"/>\n",
              "    <path d=\"M18.56 5.44l.94 2.06.94-2.06 2.06-.94-2.06-.94-.94-2.06-.94 2.06-2.06.94zm-11 1L8.5 8.5l.94-2.06 2.06-.94-2.06-.94L8.5 2.5l-.94 2.06-2.06.94zm10 10l.94 2.06.94-2.06 2.06-.94-2.06-.94-.94-2.06-.94 2.06-2.06.94z\"/><path d=\"M17.41 7.96l-1.37-1.37c-.4-.4-.92-.59-1.43-.59-.52 0-1.04.2-1.43.59L10.3 9.45l-7.72 7.72c-.78.78-.78 2.05 0 2.83L4 21.41c.39.39.9.59 1.41.59.51 0 1.02-.2 1.41-.59l7.78-7.78 2.81-2.81c.8-.78.8-2.07 0-2.86zM5.41 20L4 18.59l7.72-7.72 1.47 1.35L5.41 20z\"/>\n",
              "  </svg>\n",
              "      </button>\n",
              "\n",
              "\n",
              "\n",
              "    <div id=\"df-d87370f7-0285-4cc3-a02f-b70bc217740a\">\n",
              "      <button class=\"colab-df-quickchart\" onclick=\"quickchart('df-d87370f7-0285-4cc3-a02f-b70bc217740a')\"\n",
              "              title=\"Suggest charts.\"\n",
              "              style=\"display:none;\">\n",
              "\n",
              "<svg xmlns=\"http://www.w3.org/2000/svg\" height=\"24px\"viewBox=\"0 0 24 24\"\n",
              "     width=\"24px\">\n",
              "    <g>\n",
              "        <path d=\"M19 3H5c-1.1 0-2 .9-2 2v14c0 1.1.9 2 2 2h14c1.1 0 2-.9 2-2V5c0-1.1-.9-2-2-2zM9 17H7v-7h2v7zm4 0h-2V7h2v10zm4 0h-2v-4h2v4z\"/>\n",
              "    </g>\n",
              "</svg>\n",
              "      </button>\n",
              "    </div>\n",
              "\n",
              "<style>\n",
              "  .colab-df-quickchart {\n",
              "    background-color: #E8F0FE;\n",
              "    border: none;\n",
              "    border-radius: 50%;\n",
              "    cursor: pointer;\n",
              "    display: none;\n",
              "    fill: #1967D2;\n",
              "    height: 32px;\n",
              "    padding: 0 0 0 0;\n",
              "    width: 32px;\n",
              "  }\n",
              "\n",
              "  .colab-df-quickchart:hover {\n",
              "    background-color: #E2EBFA;\n",
              "    box-shadow: 0px 1px 2px rgba(60, 64, 67, 0.3), 0px 1px 3px 1px rgba(60, 64, 67, 0.15);\n",
              "    fill: #174EA6;\n",
              "  }\n",
              "\n",
              "  [theme=dark] .colab-df-quickchart {\n",
              "    background-color: #3B4455;\n",
              "    fill: #D2E3FC;\n",
              "  }\n",
              "\n",
              "  [theme=dark] .colab-df-quickchart:hover {\n",
              "    background-color: #434B5C;\n",
              "    box-shadow: 0px 1px 3px 1px rgba(0, 0, 0, 0.15);\n",
              "    filter: drop-shadow(0px 1px 2px rgba(0, 0, 0, 0.3));\n",
              "    fill: #FFFFFF;\n",
              "  }\n",
              "</style>\n",
              "\n",
              "    <script>\n",
              "      async function quickchart(key) {\n",
              "        const containerElement = document.querySelector('#' + key);\n",
              "        const charts = await google.colab.kernel.invokeFunction(\n",
              "            'suggestCharts', [key], {});\n",
              "      }\n",
              "    </script>\n",
              "\n",
              "      <script>\n",
              "\n",
              "function displayQuickchartButton(domScope) {\n",
              "  let quickchartButtonEl =\n",
              "    domScope.querySelector('#df-d87370f7-0285-4cc3-a02f-b70bc217740a button.colab-df-quickchart');\n",
              "  quickchartButtonEl.style.display =\n",
              "    google.colab.kernel.accessAllowed ? 'block' : 'none';\n",
              "}\n",
              "\n",
              "        displayQuickchartButton(document);\n",
              "      </script>\n",
              "      <style>\n",
              "    .colab-df-container {\n",
              "      display:flex;\n",
              "      flex-wrap:wrap;\n",
              "      gap: 12px;\n",
              "    }\n",
              "\n",
              "    .colab-df-convert {\n",
              "      background-color: #E8F0FE;\n",
              "      border: none;\n",
              "      border-radius: 50%;\n",
              "      cursor: pointer;\n",
              "      display: none;\n",
              "      fill: #1967D2;\n",
              "      height: 32px;\n",
              "      padding: 0 0 0 0;\n",
              "      width: 32px;\n",
              "    }\n",
              "\n",
              "    .colab-df-convert:hover {\n",
              "      background-color: #E2EBFA;\n",
              "      box-shadow: 0px 1px 2px rgba(60, 64, 67, 0.3), 0px 1px 3px 1px rgba(60, 64, 67, 0.15);\n",
              "      fill: #174EA6;\n",
              "    }\n",
              "\n",
              "    [theme=dark] .colab-df-convert {\n",
              "      background-color: #3B4455;\n",
              "      fill: #D2E3FC;\n",
              "    }\n",
              "\n",
              "    [theme=dark] .colab-df-convert:hover {\n",
              "      background-color: #434B5C;\n",
              "      box-shadow: 0px 1px 3px 1px rgba(0, 0, 0, 0.15);\n",
              "      filter: drop-shadow(0px 1px 2px rgba(0, 0, 0, 0.3));\n",
              "      fill: #FFFFFF;\n",
              "    }\n",
              "  </style>\n",
              "\n",
              "      <script>\n",
              "        const buttonEl =\n",
              "          document.querySelector('#df-583e48d8-6f15-4265-a8de-9a8b91f0ce8b button.colab-df-convert');\n",
              "        buttonEl.style.display =\n",
              "          google.colab.kernel.accessAllowed ? 'block' : 'none';\n",
              "\n",
              "        async function convertToInteractive(key) {\n",
              "          const element = document.querySelector('#df-583e48d8-6f15-4265-a8de-9a8b91f0ce8b');\n",
              "          const dataTable =\n",
              "            await google.colab.kernel.invokeFunction('convertToInteractive',\n",
              "                                                     [key], {});\n",
              "          if (!dataTable) return;\n",
              "\n",
              "          const docLinkHtml = 'Like what you see? Visit the ' +\n",
              "            '<a target=\"_blank\" href=https://colab.research.google.com/notebooks/data_table.ipynb>data table notebook</a>'\n",
              "            + ' to learn more about interactive tables.';\n",
              "          element.innerHTML = '';\n",
              "          dataTable['output_type'] = 'display_data';\n",
              "          await google.colab.output.renderOutput(dataTable, element);\n",
              "          const docLink = document.createElement('div');\n",
              "          docLink.innerHTML = docLinkHtml;\n",
              "          element.appendChild(docLink);\n",
              "        }\n",
              "      </script>\n",
              "    </div>\n",
              "  </div>\n"
            ]
          },
          "metadata": {},
          "execution_count": 14
        }
      ]
    },
    {
      "cell_type": "markdown",
      "source": [
        "**Visualization**"
      ],
      "metadata": {
        "id": "XUFUrDj04BFh"
      }
    },
    {
      "cell_type": "code",
      "source": [
        "fig, ax = plt.subplots(figsize=(6,6))\n",
        "sns.distplot(df1['charges'],kde=False)"
      ],
      "metadata": {
        "colab": {
          "base_uri": "https://localhost:8080/",
          "height": 559
        },
        "id": "rRtqKu224Fd3",
        "outputId": "bc4c7b35-9726-4c22-906c-e4d994999464"
      },
      "execution_count": null,
      "outputs": [
        {
          "output_type": "execute_result",
          "data": {
            "text/plain": [
              "<Axes: xlabel='charges'>"
            ]
          },
          "metadata": {},
          "execution_count": 15
        },
        {
          "output_type": "display_data",
          "data": {
            "text/plain": [
              "<Figure size 600x600 with 1 Axes>"
            ],
            "image/png": "[encoded data removed]"
          },
          "metadata": {}
        }
      ]
    },
    {
      "cell_type": "code",
      "source": [
        "fig, ax = plt.subplots(figsize=(6,6))\n",
        "sns.distplot(df1['age'])"
      ],
      "metadata": {
        "colab": {
          "base_uri": "https://localhost:8080/",
          "height": 559
        },
        "id": "AFzuBP7T6vMI",
        "outputId": "02cf10f7-7cf3-46b5-b784-cb4df090e3d0"
      },
      "execution_count": null,
      "outputs": [
        {
          "output_type": "execute_result",
          "data": {
            "text/plain": [
              "<Axes: xlabel='age', ylabel='Density'>"
            ]
          },
          "metadata": {},
          "execution_count": 16
        },
        {
          "output_type": "display_data",
          "data": {
            "text/plain": [
              "<Figure size 600x600 with 1 Axes>"
            ],
            "image/png": "[encoded data removed]"
          },
          "metadata": {}
        }
      ]
    },
    {
      "cell_type": "code",
      "source": [
        "a=df1.groupby('age')['charges'].sum().reset_index()\n",
        "a1=a.sort_values(by='charges',ascending=False)[['age','charges']].head(10)\n",
        "a1"
      ],
      "metadata": {
        "colab": {
          "base_uri": "https://localhost:8080/",
          "height": 363
        },
        "id": "N6-G929645Ig",
        "outputId": "a5ef8a35-1082-4553-da13-07f4c55fae48"
      },
      "execution_count": null,
      "outputs": [
        {
          "output_type": "execute_result",
          "data": {
            "text/plain": [
              "    age        charges\n",
              "1    19  662857.834750\n",
              "34   52  529431.821860\n",
              "36   54  525239.301310\n",
              "25   43  520216.523640\n",
              "46   64  512061.678420\n",
              "29   47  511965.988200\n",
              "43   61  506562.525000\n",
              "42   60  505526.625670\n",
              "0    18  488949.011389\n",
              "41   59  472396.738290"
            ],
            "text/html": [
              "\n",
              "\n",
              "  <div id=\"df-3f62f1b5-bc8f-4773-a544-ebd7a5403623\">\n",
              "    <div class=\"colab-df-container\">\n",
              "      <div>\n",
              "<style scoped>\n",
              "    .dataframe tbody tr th:only-of-type {\n",
              "        vertical-align: middle;\n",
              "    }\n",
              "\n",
              "    .dataframe tbody tr th {\n",
              "        vertical-align: top;\n",
              "    }\n",
              "\n",
              "    .dataframe thead th {\n",
              "        text-align: right;\n",
              "    }\n",
              "</style>\n",
              "<table border=\"1\" class=\"dataframe\">\n",
              "  <thead>\n",
              "    <tr style=\"text-align: right;\">\n",
              "      <th></th>\n",
              "      <th>age</th>\n",
              "      <th>charges</th>\n",
              "    </tr>\n",
              "  </thead>\n",
              "  <tbody>\n",
              "    <tr>\n",
              "      <th>1</th>\n",
              "      <td>19</td>\n",
              "      <td>662857.834750</td>\n",
              "    </tr>\n",
              "    <tr>\n",
              "      <th>34</th>\n",
              "      <td>52</td>\n",
              "      <td>529431.821860</td>\n",
              "    </tr>\n",
              "    <tr>\n",
              "      <th>36</th>\n",
              "      <td>54</td>\n",
              "      <td>525239.301310</td>\n",
              "    </tr>\n",
              "    <tr>\n",
              "      <th>25</th>\n",
              "      <td>43</td>\n",
              "      <td>520216.523640</td>\n",
              "    </tr>\n",
              "    <tr>\n",
              "      <th>46</th>\n",
              "      <td>64</td>\n",
              "      <td>512061.678420</td>\n",
              "    </tr>\n",
              "    <tr>\n",
              "      <th>29</th>\n",
              "      <td>47</td>\n",
              "      <td>511965.988200</td>\n",
              "    </tr>\n",
              "    <tr>\n",
              "      <th>43</th>\n",
              "      <td>61</td>\n",
              "      <td>506562.525000</td>\n",
              "    </tr>\n",
              "    <tr>\n",
              "      <th>42</th>\n",
              "      <td>60</td>\n",
              "      <td>505526.625670</td>\n",
              "    </tr>\n",
              "    <tr>\n",
              "      <th>0</th>\n",
              "      <td>18</td>\n",
              "      <td>488949.011389</td>\n",
              "    </tr>\n",
              "    <tr>\n",
              "      <th>41</th>\n",
              "      <td>59</td>\n",
              "      <td>472396.738290</td>\n",
              "    </tr>\n",
              "  </tbody>\n",
              "</table>\n",
              "</div>\n",
              "      <button class=\"colab-df-convert\" onclick=\"convertToInteractive('df-3f62f1b5-bc8f-4773-a544-ebd7a5403623')\"\n",
              "              title=\"Convert this dataframe to an interactive table.\"\n",
              "              style=\"display:none;\">\n",
              "\n",
              "  <svg xmlns=\"http://www.w3.org/2000/svg\" height=\"24px\"viewBox=\"0 0 24 24\"\n",
              "       width=\"24px\">\n",
              "    <path d=\"M0 0h24v24H0V0z\" fill=\"none\"/>\n",
              "    <path d=\"M18.56 5.44l.94 2.06.94-2.06 2.06-.94-2.06-.94-.94-2.06-.94 2.06-2.06.94zm-11 1L8.5 8.5l.94-2.06 2.06-.94-2.06-.94L8.5 2.5l-.94 2.06-2.06.94zm10 10l.94 2.06.94-2.06 2.06-.94-2.06-.94-.94-2.06-.94 2.06-2.06.94z\"/><path d=\"M17.41 7.96l-1.37-1.37c-.4-.4-.92-.59-1.43-.59-.52 0-1.04.2-1.43.59L10.3 9.45l-7.72 7.72c-.78.78-.78 2.05 0 2.83L4 21.41c.39.39.9.59 1.41.59.51 0 1.02-.2 1.41-.59l7.78-7.78 2.81-2.81c.8-.78.8-2.07 0-2.86zM5.41 20L4 18.59l7.72-7.72 1.47 1.35L5.41 20z\"/>\n",
              "  </svg>\n",
              "      </button>\n",
              "\n",
              "\n",
              "\n",
              "    <div id=\"df-9ac029ae-a565-4167-9bc5-e460d4f3dd72\">\n",
              "      <button class=\"colab-df-quickchart\" onclick=\"quickchart('df-9ac029ae-a565-4167-9bc5-e460d4f3dd72')\"\n",
              "              title=\"Suggest charts.\"\n",
              "              style=\"display:none;\">\n",
              "\n",
              "<svg xmlns=\"http://www.w3.org/2000/svg\" height=\"24px\"viewBox=\"0 0 24 24\"\n",
              "     width=\"24px\">\n",
              "    <g>\n",
              "        <path d=\"M19 3H5c-1.1 0-2 .9-2 2v14c0 1.1.9 2 2 2h14c1.1 0 2-.9 2-2V5c0-1.1-.9-2-2-2zM9 17H7v-7h2v7zm4 0h-2V7h2v10zm4 0h-2v-4h2v4z\"/>\n",
              "    </g>\n",
              "</svg>\n",
              "      </button>\n",
              "    </div>\n",
              "\n",
              "<style>\n",
              "  .colab-df-quickchart {\n",
              "    background-color: #E8F0FE;\n",
              "    border: none;\n",
              "    border-radius: 50%;\n",
              "    cursor: pointer;\n",
              "    display: none;\n",
              "    fill: #1967D2;\n",
              "    height: 32px;\n",
              "    padding: 0 0 0 0;\n",
              "    width: 32px;\n",
              "  }\n",
              "\n",
              "  .colab-df-quickchart:hover {\n",
              "    background-color: #E2EBFA;\n",
              "    box-shadow: 0px 1px 2px rgba(60, 64, 67, 0.3), 0px 1px 3px 1px rgba(60, 64, 67, 0.15);\n",
              "    fill: #174EA6;\n",
              "  }\n",
              "\n",
              "  [theme=dark] .colab-df-quickchart {\n",
              "    background-color: #3B4455;\n",
              "    fill: #D2E3FC;\n",
              "  }\n",
              "\n",
              "  [theme=dark] .colab-df-quickchart:hover {\n",
              "    background-color: #434B5C;\n",
              "    box-shadow: 0px 1px 3px 1px rgba(0, 0, 0, 0.15);\n",
              "    filter: drop-shadow(0px 1px 2px rgba(0, 0, 0, 0.3));\n",
              "    fill: #FFFFFF;\n",
              "  }\n",
              "</style>\n",
              "\n",
              "    <script>\n",
              "      async function quickchart(key) {\n",
              "        const containerElement = document.querySelector('#' + key);\n",
              "        const charts = await google.colab.kernel.invokeFunction(\n",
              "            'suggestCharts', [key], {});\n",
              "      }\n",
              "    </script>\n",
              "\n",
              "      <script>\n",
              "\n",
              "function displayQuickchartButton(domScope) {\n",
              "  let quickchartButtonEl =\n",
              "    domScope.querySelector('#df-9ac029ae-a565-4167-9bc5-e460d4f3dd72 button.colab-df-quickchart');\n",
              "  quickchartButtonEl.style.display =\n",
              "    google.colab.kernel.accessAllowed ? 'block' : 'none';\n",
              "}\n",
              "\n",
              "        displayQuickchartButton(document);\n",
              "      </script>\n",
              "      <style>\n",
              "    .colab-df-container {\n",
              "      display:flex;\n",
              "      flex-wrap:wrap;\n",
              "      gap: 12px;\n",
              "    }\n",
              "\n",
              "    .colab-df-convert {\n",
              "      background-color: #E8F0FE;\n",
              "      border: none;\n",
              "      border-radius: 50%;\n",
              "      cursor: pointer;\n",
              "      display: none;\n",
              "      fill: #1967D2;\n",
              "      height: 32px;\n",
              "      padding: 0 0 0 0;\n",
              "      width: 32px;\n",
              "    }\n",
              "\n",
              "    .colab-df-convert:hover {\n",
              "      background-color: #E2EBFA;\n",
              "      box-shadow: 0px 1px 2px rgba(60, 64, 67, 0.3), 0px 1px 3px 1px rgba(60, 64, 67, 0.15);\n",
              "      fill: #174EA6;\n",
              "    }\n",
              "\n",
              "    [theme=dark] .colab-df-convert {\n",
              "      background-color: #3B4455;\n",
              "      fill: #D2E3FC;\n",
              "    }\n",
              "\n",
              "    [theme=dark] .colab-df-convert:hover {\n",
              "      background-color: #434B5C;\n",
              "      box-shadow: 0px 1px 3px 1px rgba(0, 0, 0, 0.15);\n",
              "      filter: drop-shadow(0px 1px 2px rgba(0, 0, 0, 0.3));\n",
              "      fill: #FFFFFF;\n",
              "    }\n",
              "  </style>\n",
              "\n",
              "      <script>\n",
              "        const buttonEl =\n",
              "          document.querySelector('#df-3f62f1b5-bc8f-4773-a544-ebd7a5403623 button.colab-df-convert');\n",
              "        buttonEl.style.display =\n",
              "          google.colab.kernel.accessAllowed ? 'block' : 'none';\n",
              "\n",
              "        async function convertToInteractive(key) {\n",
              "          const element = document.querySelector('#df-3f62f1b5-bc8f-4773-a544-ebd7a5403623');\n",
              "          const dataTable =\n",
              "            await google.colab.kernel.invokeFunction('convertToInteractive',\n",
              "                                                     [key], {});\n",
              "          if (!dataTable) return;\n",
              "\n",
              "          const docLinkHtml = 'Like what you see? Visit the ' +\n",
              "            '<a target=\"_blank\" href=https://colab.research.google.com/notebooks/data_table.ipynb>data table notebook</a>'\n",
              "            + ' to learn more about interactive tables.';\n",
              "          element.innerHTML = '';\n",
              "          dataTable['output_type'] = 'display_data';\n",
              "          await google.colab.output.renderOutput(dataTable, element);\n",
              "          const docLink = document.createElement('div');\n",
              "          docLink.innerHTML = docLinkHtml;\n",
              "          element.appendChild(docLink);\n",
              "        }\n",
              "      </script>\n",
              "    </div>\n",
              "  </div>\n"
            ]
          },
          "metadata": {},
          "execution_count": 17
        }
      ]
    },
    {
      "cell_type": "code",
      "source": [
        "fig,ax=plt.subplots(figsize=(8,8))\n",
        "sns.barplot(x='age',y='charges',data=a1,ax=ax,palette='pastel')"
      ],
      "metadata": {
        "colab": {
          "base_uri": "https://localhost:8080/",
          "height": 713
        },
        "id": "COE0Cmaf_pq1",
        "outputId": "5b008893-ff13-4cd6-fc57-1687de25cb8a"
      },
      "execution_count": null,
      "outputs": [
        {
          "output_type": "execute_result",
          "data": {
            "text/plain": [
              "<Axes: xlabel='age', ylabel='charges'>"
            ]
          },
          "metadata": {},
          "execution_count": 18
        },
        {
          "output_type": "display_data",
          "data": {
            "text/plain": [
              "<Figure size 800x800 with 1 Axes>"
            ],
            "image/png": "[encoded data removed]"
          },
          "metadata": {}
        }
      ]
    },
    {
      "cell_type": "code",
      "source": [
        "c=df1.groupby('sex')['charges'].sum().reset_index()\n",
        "c1=c.sort_values(by='charges')\n",
        "c1"
      ],
      "metadata": {
        "colab": {
          "base_uri": "https://localhost:8080/",
          "height": 112
        },
        "id": "vZJ0paqsFbgr",
        "outputId": "e16eeb01-7f3f-4568-a448-047f7bf72ff6"
      },
      "execution_count": null,
      "outputs": [
        {
          "output_type": "execute_result",
          "data": {
            "text/plain": [
              "      sex       charges\n",
              "0  female  8.321061e+06\n",
              "1    male  9.434764e+06"
            ],
            "text/html": [
              "\n",
              "\n",
              "  <div id=\"df-a4e2f0d0-f8a2-4bca-8933-151fb99a033e\">\n",
              "    <div class=\"colab-df-container\">\n",
              "      <div>\n",
              "<style scoped>\n",
              "    .dataframe tbody tr th:only-of-type {\n",
              "        vertical-align: middle;\n",
              "    }\n",
              "\n",
              "    .dataframe tbody tr th {\n",
              "        vertical-align: top;\n",
              "    }\n",
              "\n",
              "    .dataframe thead th {\n",
              "        text-align: right;\n",
              "    }\n",
              "</style>\n",
              "<table border=\"1\" class=\"dataframe\">\n",
              "  <thead>\n",
              "    <tr style=\"text-align: right;\">\n",
              "      <th></th>\n",
              "      <th>sex</th>\n",
              "      <th>charges</th>\n",
              "    </tr>\n",
              "  </thead>\n",
              "  <tbody>\n",
              "    <tr>\n",
              "      <th>0</th>\n",
              "      <td>female</td>\n",
              "      <td>8.321061e+06</td>\n",
              "    </tr>\n",
              "    <tr>\n",
              "      <th>1</th>\n",
              "      <td>male</td>\n",
              "      <td>9.434764e+06</td>\n",
              "    </tr>\n",
              "  </tbody>\n",
              "</table>\n",
              "</div>\n",
              "      <button class=\"colab-df-convert\" onclick=\"convertToInteractive('df-a4e2f0d0-f8a2-4bca-8933-151fb99a033e')\"\n",
              "              title=\"Convert this dataframe to an interactive table.\"\n",
              "              style=\"display:none;\">\n",
              "\n",
              "  <svg xmlns=\"http://www.w3.org/2000/svg\" height=\"24px\"viewBox=\"0 0 24 24\"\n",
              "       width=\"24px\">\n",
              "    <path d=\"M0 0h24v24H0V0z\" fill=\"none\"/>\n",
              "    <path d=\"M18.56 5.44l.94 2.06.94-2.06 2.06-.94-2.06-.94-.94-2.06-.94 2.06-2.06.94zm-11 1L8.5 8.5l.94-2.06 2.06-.94-2.06-.94L8.5 2.5l-.94 2.06-2.06.94zm10 10l.94 2.06.94-2.06 2.06-.94-2.06-.94-.94-2.06-.94 2.06-2.06.94z\"/><path d=\"M17.41 7.96l-1.37-1.37c-.4-.4-.92-.59-1.43-.59-.52 0-1.04.2-1.43.59L10.3 9.45l-7.72 7.72c-.78.78-.78 2.05 0 2.83L4 21.41c.39.39.9.59 1.41.59.51 0 1.02-.2 1.41-.59l7.78-7.78 2.81-2.81c.8-.78.8-2.07 0-2.86zM5.41 20L4 18.59l7.72-7.72 1.47 1.35L5.41 20z\"/>\n",
              "  </svg>\n",
              "      </button>\n",
              "\n",
              "\n",
              "\n",
              "    <div id=\"df-26face4d-8630-4d56-8106-1e01129209ec\">\n",
              "      <button class=\"colab-df-quickchart\" onclick=\"quickchart('df-26face4d-8630-4d56-8106-1e01129209ec')\"\n",
              "              title=\"Suggest charts.\"\n",
              "              style=\"display:none;\">\n",
              "\n",
              "<svg xmlns=\"http://www.w3.org/2000/svg\" height=\"24px\"viewBox=\"0 0 24 24\"\n",
              "     width=\"24px\">\n",
              "    <g>\n",
              "        <path d=\"M19 3H5c-1.1 0-2 .9-2 2v14c0 1.1.9 2 2 2h14c1.1 0 2-.9 2-2V5c0-1.1-.9-2-2-2zM9 17H7v-7h2v7zm4 0h-2V7h2v10zm4 0h-2v-4h2v4z\"/>\n",
              "    </g>\n",
              "</svg>\n",
              "      </button>\n",
              "    </div>\n",
              "\n",
              "<style>\n",
              "  .colab-df-quickchart {\n",
              "    background-color: #E8F0FE;\n",
              "    border: none;\n",
              "    border-radius: 50%;\n",
              "    cursor: pointer;\n",
              "    display: none;\n",
              "    fill: #1967D2;\n",
              "    height: 32px;\n",
              "    padding: 0 0 0 0;\n",
              "    width: 32px;\n",
              "  }\n",
              "\n",
              "  .colab-df-quickchart:hover {\n",
              "    background-color: #E2EBFA;\n",
              "    box-shadow: 0px 1px 2px rgba(60, 64, 67, 0.3), 0px 1px 3px 1px rgba(60, 64, 67, 0.15);\n",
              "    fill: #174EA6;\n",
              "  }\n",
              "\n",
              "  [theme=dark] .colab-df-quickchart {\n",
              "    background-color: #3B4455;\n",
              "    fill: #D2E3FC;\n",
              "  }\n",
              "\n",
              "  [theme=dark] .colab-df-quickchart:hover {\n",
              "    background-color: #434B5C;\n",
              "    box-shadow: 0px 1px 3px 1px rgba(0, 0, 0, 0.15);\n",
              "    filter: drop-shadow(0px 1px 2px rgba(0, 0, 0, 0.3));\n",
              "    fill: #FFFFFF;\n",
              "  }\n",
              "</style>\n",
              "\n",
              "    <script>\n",
              "      async function quickchart(key) {\n",
              "        const containerElement = document.querySelector('#' + key);\n",
              "        const charts = await google.colab.kernel.invokeFunction(\n",
              "            'suggestCharts', [key], {});\n",
              "      }\n",
              "    </script>\n",
              "\n",
              "      <script>\n",
              "\n",
              "function displayQuickchartButton(domScope) {\n",
              "  let quickchartButtonEl =\n",
              "    domScope.querySelector('#df-26face4d-8630-4d56-8106-1e01129209ec button.colab-df-quickchart');\n",
              "  quickchartButtonEl.style.display =\n",
              "    google.colab.kernel.accessAllowed ? 'block' : 'none';\n",
              "}\n",
              "\n",
              "        displayQuickchartButton(document);\n",
              "      </script>\n",
              "      <style>\n",
              "    .colab-df-container {\n",
              "      display:flex;\n",
              "      flex-wrap:wrap;\n",
              "      gap: 12px;\n",
              "    }\n",
              "\n",
              "    .colab-df-convert {\n",
              "      background-color: #E8F0FE;\n",
              "      border: none;\n",
              "      border-radius: 50%;\n",
              "      cursor: pointer;\n",
              "      display: none;\n",
              "      fill: #1967D2;\n",
              "      height: 32px;\n",
              "      padding: 0 0 0 0;\n",
              "      width: 32px;\n",
              "    }\n",
              "\n",
              "    .colab-df-convert:hover {\n",
              "      background-color: #E2EBFA;\n",
              "      box-shadow: 0px 1px 2px rgba(60, 64, 67, 0.3), 0px 1px 3px 1px rgba(60, 64, 67, 0.15);\n",
              "      fill: #174EA6;\n",
              "    }\n",
              "\n",
              "    [theme=dark] .colab-df-convert {\n",
              "      background-color: #3B4455;\n",
              "      fill: #D2E3FC;\n",
              "    }\n",
              "\n",
              "    [theme=dark] .colab-df-convert:hover {\n",
              "      background-color: #434B5C;\n",
              "      box-shadow: 0px 1px 3px 1px rgba(0, 0, 0, 0.15);\n",
              "      filter: drop-shadow(0px 1px 2px rgba(0, 0, 0, 0.3));\n",
              "      fill: #FFFFFF;\n",
              "    }\n",
              "  </style>\n",
              "\n",
              "      <script>\n",
              "        const buttonEl =\n",
              "          document.querySelector('#df-a4e2f0d0-f8a2-4bca-8933-151fb99a033e button.colab-df-convert');\n",
              "        buttonEl.style.display =\n",
              "          google.colab.kernel.accessAllowed ? 'block' : 'none';\n",
              "\n",
              "        async function convertToInteractive(key) {\n",
              "          const element = document.querySelector('#df-a4e2f0d0-f8a2-4bca-8933-151fb99a033e');\n",
              "          const dataTable =\n",
              "            await google.colab.kernel.invokeFunction('convertToInteractive',\n",
              "                                                     [key], {});\n",
              "          if (!dataTable) return;\n",
              "\n",
              "          const docLinkHtml = 'Like what you see? Visit the ' +\n",
              "            '<a target=\"_blank\" href=https://colab.research.google.com/notebooks/data_table.ipynb>data table notebook</a>'\n",
              "            + ' to learn more about interactive tables.';\n",
              "          element.innerHTML = '';\n",
              "          dataTable['output_type'] = 'display_data';\n",
              "          await google.colab.output.renderOutput(dataTable, element);\n",
              "          const docLink = document.createElement('div');\n",
              "          docLink.innerHTML = docLinkHtml;\n",
              "          element.appendChild(docLink);\n",
              "        }\n",
              "      </script>\n",
              "    </div>\n",
              "  </div>\n"
            ]
          },
          "metadata": {},
          "execution_count": 19
        }
      ]
    },
    {
      "cell_type": "code",
      "source": [
        "y=c1['charges']\n",
        "labels=['female','male']\n",
        "myexplode=[0,0.1]\n",
        "plt.pie(y,labels=labels,explode = myexplode,shadow=True,autopct='%1.1f%%')\n",
        "plt.show()"
      ],
      "metadata": {
        "colab": {
          "base_uri": "https://localhost:8080/",
          "height": 406
        },
        "id": "9b3dySVXDuaT",
        "outputId": "02f02c46-4cfe-49be-f332-01f289bb7f6b"
      },
      "execution_count": null,
      "outputs": [
        {
          "output_type": "display_data",
          "data": {
            "text/plain": [
              "<Figure size 640x480 with 1 Axes>"
            ],
            "image/png": "[encoded data removed]"
          },
          "metadata": {}
        }
      ]
    },
    {
      "cell_type": "code",
      "source": [
        "d=df1.groupby('region')['bmi'].sum().reset_index()\n",
        "#a1=a.sort_values(by='charges',ascending=False)[['age','charges']].head(10)\n",
        "d1=d.sort_values(by='bmi')\n",
        "d1"
      ],
      "metadata": {
        "colab": {
          "base_uri": "https://localhost:8080/",
          "height": 175
        },
        "id": "m8BuotBIGpET",
        "outputId": "4acf89b3-29ea-4241-bee7-cdf1d5dd06cd"
      },
      "execution_count": null,
      "outputs": [
        {
          "output_type": "execute_result",
          "data": {
            "text/plain": [
              "      region        bmi\n",
              "0  northeast   9452.215\n",
              "1  northwest   9489.930\n",
              "3  southwest   9943.900\n",
              "2  southeast  12141.580"
            ],
            "text/html": [
              "\n",
              "\n",
              "  <div id=\"df-53a56561-bbbc-4945-a482-82c1fdc57d71\">\n",
              "    <div class=\"colab-df-container\">\n",
              "      <div>\n",
              "<style scoped>\n",
              "    .dataframe tbody tr th:only-of-type {\n",
              "        vertical-align: middle;\n",
              "    }\n",
              "\n",
              "    .dataframe tbody tr th {\n",
              "        vertical-align: top;\n",
              "    }\n",
              "\n",
              "    .dataframe thead th {\n",
              "        text-align: right;\n",
              "    }\n",
              "</style>\n",
              "<table border=\"1\" class=\"dataframe\">\n",
              "  <thead>\n",
              "    <tr style=\"text-align: right;\">\n",
              "      <th></th>\n",
              "      <th>region</th>\n",
              "      <th>bmi</th>\n",
              "    </tr>\n",
              "  </thead>\n",
              "  <tbody>\n",
              "    <tr>\n",
              "      <th>0</th>\n",
              "      <td>northeast</td>\n",
              "      <td>9452.215</td>\n",
              "    </tr>\n",
              "    <tr>\n",
              "      <th>1</th>\n",
              "      <td>northwest</td>\n",
              "      <td>9489.930</td>\n",
              "    </tr>\n",
              "    <tr>\n",
              "      <th>3</th>\n",
              "      <td>southwest</td>\n",
              "      <td>9943.900</td>\n",
              "    </tr>\n",
              "    <tr>\n",
              "      <th>2</th>\n",
              "      <td>southeast</td>\n",
              "      <td>12141.580</td>\n",
              "    </tr>\n",
              "  </tbody>\n",
              "</table>\n",
              "</div>\n",
              "      <button class=\"colab-df-convert\" onclick=\"convertToInteractive('df-53a56561-bbbc-4945-a482-82c1fdc57d71')\"\n",
              "              title=\"Convert this dataframe to an interactive table.\"\n",
              "              style=\"display:none;\">\n",
              "\n",
              "  <svg xmlns=\"http://www.w3.org/2000/svg\" height=\"24px\"viewBox=\"0 0 24 24\"\n",
              "       width=\"24px\">\n",
              "    <path d=\"M0 0h24v24H0V0z\" fill=\"none\"/>\n",
              "    <path d=\"M18.56 5.44l.94 2.06.94-2.06 2.06-.94-2.06-.94-.94-2.06-.94 2.06-2.06.94zm-11 1L8.5 8.5l.94-2.06 2.06-.94-2.06-.94L8.5 2.5l-.94 2.06-2.06.94zm10 10l.94 2.06.94-2.06 2.06-.94-2.06-.94-.94-2.06-.94 2.06-2.06.94z\"/><path d=\"M17.41 7.96l-1.37-1.37c-.4-.4-.92-.59-1.43-.59-.52 0-1.04.2-1.43.59L10.3 9.45l-7.72 7.72c-.78.78-.78 2.05 0 2.83L4 21.41c.39.39.9.59 1.41.59.51 0 1.02-.2 1.41-.59l7.78-7.78 2.81-2.81c.8-.78.8-2.07 0-2.86zM5.41 20L4 18.59l7.72-7.72 1.47 1.35L5.41 20z\"/>\n",
              "  </svg>\n",
              "      </button>\n",
              "\n",
              "\n",
              "\n",
              "    <div id=\"df-3573dce8-1c92-473b-b75e-fed7b5b9308a\">\n",
              "      <button class=\"colab-df-quickchart\" onclick=\"quickchart('df-3573dce8-1c92-473b-b75e-fed7b5b9308a')\"\n",
              "              title=\"Suggest charts.\"\n",
              "              style=\"display:none;\">\n",
              "\n",
              "<svg xmlns=\"http://www.w3.org/2000/svg\" height=\"24px\"viewBox=\"0 0 24 24\"\n",
              "     width=\"24px\">\n",
              "    <g>\n",
              "        <path d=\"M19 3H5c-1.1 0-2 .9-2 2v14c0 1.1.9 2 2 2h14c1.1 0 2-.9 2-2V5c0-1.1-.9-2-2-2zM9 17H7v-7h2v7zm4 0h-2V7h2v10zm4 0h-2v-4h2v4z\"/>\n",
              "    </g>\n",
              "</svg>\n",
              "      </button>\n",
              "    </div>\n",
              "\n",
              "<style>\n",
              "  .colab-df-quickchart {\n",
              "    background-color: #E8F0FE;\n",
              "    border: none;\n",
              "    border-radius: 50%;\n",
              "    cursor: pointer;\n",
              "    display: none;\n",
              "    fill: #1967D2;\n",
              "    height: 32px;\n",
              "    padding: 0 0 0 0;\n",
              "    width: 32px;\n",
              "  }\n",
              "\n",
              "  .colab-df-quickchart:hover {\n",
              "    background-color: #E2EBFA;\n",
              "    box-shadow: 0px 1px 2px rgba(60, 64, 67, 0.3), 0px 1px 3px 1px rgba(60, 64, 67, 0.15);\n",
              "    fill: #174EA6;\n",
              "  }\n",
              "\n",
              "  [theme=dark] .colab-df-quickchart {\n",
              "    background-color: #3B4455;\n",
              "    fill: #D2E3FC;\n",
              "  }\n",
              "\n",
              "  [theme=dark] .colab-df-quickchart:hover {\n",
              "    background-color: #434B5C;\n",
              "    box-shadow: 0px 1px 3px 1px rgba(0, 0, 0, 0.15);\n",
              "    filter: drop-shadow(0px 1px 2px rgba(0, 0, 0, 0.3));\n",
              "    fill: #FFFFFF;\n",
              "  }\n",
              "</style>\n",
              "\n",
              "    <script>\n",
              "      async function quickchart(key) {\n",
              "        const containerElement = document.querySelector('#' + key);\n",
              "        const charts = await google.colab.kernel.invokeFunction(\n",
              "            'suggestCharts', [key], {});\n",
              "      }\n",
              "    </script>\n",
              "\n",
              "      <script>\n",
              "\n",
              "function displayQuickchartButton(domScope) {\n",
              "  let quickchartButtonEl =\n",
              "    domScope.querySelector('#df-3573dce8-1c92-473b-b75e-fed7b5b9308a button.colab-df-quickchart');\n",
              "  quickchartButtonEl.style.display =\n",
              "    google.colab.kernel.accessAllowed ? 'block' : 'none';\n",
              "}\n",
              "\n",
              "        displayQuickchartButton(document);\n",
              "      </script>\n",
              "      <style>\n",
              "    .colab-df-container {\n",
              "      display:flex;\n",
              "      flex-wrap:wrap;\n",
              "      gap: 12px;\n",
              "    }\n",
              "\n",
              "    .colab-df-convert {\n",
              "      background-color: #E8F0FE;\n",
              "      border: none;\n",
              "      border-radius: 50%;\n",
              "      cursor: pointer;\n",
              "      display: none;\n",
              "      fill: #1967D2;\n",
              "      height: 32px;\n",
              "      padding: 0 0 0 0;\n",
              "      width: 32px;\n",
              "    }\n",
              "\n",
              "    .colab-df-convert:hover {\n",
              "      background-color: #E2EBFA;\n",
              "      box-shadow: 0px 1px 2px rgba(60, 64, 67, 0.3), 0px 1px 3px 1px rgba(60, 64, 67, 0.15);\n",
              "      fill: #174EA6;\n",
              "    }\n",
              "\n",
              "    [theme=dark] .colab-df-convert {\n",
              "      background-color: #3B4455;\n",
              "      fill: #D2E3FC;\n",
              "    }\n",
              "\n",
              "    [theme=dark] .colab-df-convert:hover {\n",
              "      background-color: #434B5C;\n",
              "      box-shadow: 0px 1px 3px 1px rgba(0, 0, 0, 0.15);\n",
              "      filter: drop-shadow(0px 1px 2px rgba(0, 0, 0, 0.3));\n",
              "      fill: #FFFFFF;\n",
              "    }\n",
              "  </style>\n",
              "\n",
              "      <script>\n",
              "        const buttonEl =\n",
              "          document.querySelector('#df-53a56561-bbbc-4945-a482-82c1fdc57d71 button.colab-df-convert');\n",
              "        buttonEl.style.display =\n",
              "          google.colab.kernel.accessAllowed ? 'block' : 'none';\n",
              "\n",
              "        async function convertToInteractive(key) {\n",
              "          const element = document.querySelector('#df-53a56561-bbbc-4945-a482-82c1fdc57d71');\n",
              "          const dataTable =\n",
              "            await google.colab.kernel.invokeFunction('convertToInteractive',\n",
              "                                                     [key], {});\n",
              "          if (!dataTable) return;\n",
              "\n",
              "          const docLinkHtml = 'Like what you see? Visit the ' +\n",
              "            '<a target=\"_blank\" href=https://colab.research.google.com/notebooks/data_table.ipynb>data table notebook</a>'\n",
              "            + ' to learn more about interactive tables.';\n",
              "          element.innerHTML = '';\n",
              "          dataTable['output_type'] = 'display_data';\n",
              "          await google.colab.output.renderOutput(dataTable, element);\n",
              "          const docLink = document.createElement('div');\n",
              "          docLink.innerHTML = docLinkHtml;\n",
              "          element.appendChild(docLink);\n",
              "        }\n",
              "      </script>\n",
              "    </div>\n",
              "  </div>\n"
            ]
          },
          "metadata": {},
          "execution_count": 21
        }
      ]
    },
    {
      "cell_type": "code",
      "source": [
        "size=[200, 400, 600, 800]\n",
        "color=[1, 2, 3, 4]\n",
        "px.scatter(d1, x='region', y='bmi',size=size, color=color)"
      ],
      "metadata": {
        "colab": {
          "base_uri": "https://localhost:8080/",
          "height": 542
        },
        "id": "PqvVL7VXIIL7",
        "outputId": "04aed279-9c0d-47c4-9743-3005e95f7f51"
      },
      "execution_count": null,
      "outputs": [
        {
          "output_type": "display_data",
          "data": {
            "text/html": [
              "<html>\n",
              "<head><meta charset=\"utf-8\" /></head>\n",
              "<body>\n",
              "    <div>            <script src=\"https://cdnjs.cloudflare.com/ajax/libs/mathjax/2.7.5/MathJax.js?config=TeX-AMS-MML_SVG\"></script><script type=\"text/javascript\">if (window.MathJax && window.MathJax.Hub && window.MathJax.Hub.Config) {window.MathJax.Hub.Config({SVG: {font: \"STIX-Web\"}});}</script>                <script type=\"text/javascript\">window.PlotlyConfig = {MathJaxConfig: 'local'};</script>\n",
              "        <script src=\"https://cdn.plot.ly/plotly-2.18.2.min.js\"></script>                <div id=\"f8247d7a-b886-4a14-b656-8d50186353d6\" class=\"plotly-graph-div\" style=\"height:525px; width:100%;\"></div>            <script type=\"text/javascript\">                                    window.PLOTLYENV=window.PLOTLYENV || {};                                    if (document.getElementById(\"f8247d7a-b886-4a14-b656-8d50186353d6\")) {                    Plotly.newPlot(                        \"f8247d7a-b886-4a14-b656-8d50186353d6\",                        [{\"hovertemplate\":\"region=%{x}<br>bmi=%{y}<br>size=%{marker.size}<br>color=%{marker.color}<extra></extra>\",\"legendgroup\":\"\",\"marker\":{\"color\":[1,2,3,4],\"coloraxis\":\"coloraxis\",\"size\":[200,400,600,800],\"sizemode\":\"area\",\"sizeref\":2.0,\"symbol\":\"circle\"},\"mode\":\"markers\",\"name\":\"\",\"orientation\":\"v\",\"showlegend\":false,\"x\":[\"northeast\",\"northwest\",\"southwest\",\"southeast\"],\"xaxis\":\"x\",\"y\":[9452.215,9489.93,9943.9,12141.58],\"yaxis\":\"y\",\"type\":\"scatter\"}],                        {\"template\":{\"data\":{\"histogram2dcontour\":[{\"type\":\"histogram2dcontour\",\"colorbar\":{\"outlinewidth\":0,\"ticks\":\"\"},\"colorscale\":[[0.0,\"#0d0887\"],[0.1111111111111111,\"#46039f\"],[0.2222222222222222,\"#7201a8\"],[0.3333333333333333,\"#9c179e\"],[0.4444444444444444,\"#bd3786\"],[0.5555555555555556,\"#d8576b\"],[0.6666666666666666,\"#ed7953\"],[0.7777777777777778,\"#fb9f3a\"],[0.8888888888888888,\"#fdca26\"],[1.0,\"#f0f921\"]]}],\"choropleth\":[{\"type\":\"choropleth\",\"colorbar\":{\"outlinewidth\":0,\"ticks\":\"\"}}],\"histogram2d\":[{\"type\":\"histogram2d\",\"colorbar\":{\"outlinewidth\":0,\"ticks\":\"\"},\"colorscale\":[[0.0,\"#0d0887\"],[0.1111111111111111,\"#46039f\"],[0.2222222222222222,\"#7201a8\"],[0.3333333333333333,\"#9c179e\"],[0.4444444444444444,\"#bd3786\"],[0.5555555555555556,\"#d8576b\"],[0.6666666666666666,\"#ed7953\"],[0.7777777777777778,\"#fb9f3a\"],[0.8888888888888888,\"#fdca26\"],[1.0,\"#f0f921\"]]}],\"heatmap\":[{\"type\":\"heatmap\",\"colorbar\":{\"outlinewidth\":0,\"ticks\":\"\"},\"colorscale\":[[0.0,\"#0d0887\"],[0.1111111111111111,\"#46039f\"],[0.2222222222222222,\"#7201a8\"],[0.3333333333333333,\"#9c179e\"],[0.4444444444444444,\"#bd3786\"],[0.5555555555555556,\"#d8576b\"],[0.6666666666666666,\"#ed7953\"],[0.7777777777777778,\"#fb9f3a\"],[0.8888888888888888,\"#fdca26\"],[1.0,\"#f0f921\"]]}],\"heatmapgl\":[{\"type\":\"heatmapgl\",\"colorbar\":{\"outlinewidth\":0,\"ticks\":\"\"},\"colorscale\":[[0.0,\"#0d0887\"],[0.1111111111111111,\"#46039f\"],[0.2222222222222222,\"#7201a8\"],[0.3333333333333333,\"#9c179e\"],[0.4444444444444444,\"#bd3786\"],[0.5555555555555556,\"#d8576b\"],[0.6666666666666666,\"#ed7953\"],[0.7777777777777778,\"#fb9f3a\"],[0.8888888888888888,\"#fdca26\"],[1.0,\"#f0f921\"]]}],\"contourcarpet\":[{\"type\":\"contourcarpet\",\"colorbar\":{\"outlinewidth\":0,\"ticks\":\"\"}}],\"contour\":[{\"type\":\"contour\",\"colorbar\":{\"outlinewidth\":0,\"ticks\":\"\"},\"colorscale\":[[0.0,\"#0d0887\"],[0.1111111111111111,\"#46039f\"],[0.2222222222222222,\"#7201a8\"],[0.3333333333333333,\"#9c179e\"],[0.4444444444444444,\"#bd3786\"],[0.5555555555555556,\"#d8576b\"],[0.6666666666666666,\"#ed7953\"],[0.7777777777777778,\"#fb9f3a\"],[0.8888888888888888,\"#fdca26\"],[1.0,\"#f0f921\"]]}],\"surface\":[{\"type\":\"surface\",\"colorbar\":{\"outlinewidth\":0,\"ticks\":\"\"},\"colorscale\":[[0.0,\"#0d0887\"],[0.1111111111111111,\"#46039f\"],[0.2222222222222222,\"#7201a8\"],[0.3333333333333333,\"#9c179e\"],[0.4444444444444444,\"#bd3786\"],[0.5555555555555556,\"#d8576b\"],[0.6666666666666666,\"#ed7953\"],[0.7777777777777778,\"#fb9f3a\"],[0.8888888888888888,\"#fdca26\"],[1.0,\"#f0f921\"]]}],\"mesh3d\":[{\"type\":\"mesh3d\",\"colorbar\":{\"outlinewidth\":0,\"ticks\":\"\"}}],\"scatter\":[{\"fillpattern\":{\"fillmode\":\"overlay\",\"size\":10,\"solidity\":0.2},\"type\":\"scatter\"}],\"parcoords\":[{\"type\":\"parcoords\",\"line\":{\"colorbar\":{\"outlinewidth\":0,\"ticks\":\"\"}}}],\"scatterpolargl\":[{\"type\":\"scatterpolargl\",\"marker\":{\"colorbar\":{\"outlinewidth\":0,\"ticks\":\"\"}}}],\"bar\":[{\"error_x\":{\"color\":\"#2a3f5f\"},\"error_y\":{\"color\":\"#2a3f5f\"},\"marker\":{\"line\":{\"color\":\"#E5ECF6\",\"width\":0.5},\"pattern\":{\"fillmode\":\"overlay\",\"size\":10,\"solidity\":0.2}},\"type\":\"bar\"}],\"scattergeo\":[{\"type\":\"scattergeo\",\"marker\":{\"colorbar\":{\"outlinewidth\":0,\"ticks\":\"\"}}}],\"scatterpolar\":[{\"type\":\"scatterpolar\",\"marker\":{\"colorbar\":{\"outlinewidth\":0,\"ticks\":\"\"}}}],\"histogram\":[{\"marker\":{\"pattern\":{\"fillmode\":\"overlay\",\"size\":10,\"solidity\":0.2}},\"type\":\"histogram\"}],\"scattergl\":[{\"type\":\"scattergl\",\"marker\":{\"colorbar\":{\"outlinewidth\":0,\"ticks\":\"\"}}}],\"scatter3d\":[{\"type\":\"scatter3d\",\"line\":{\"colorbar\":{\"outlinewidth\":0,\"ticks\":\"\"}},\"marker\":{\"colorbar\":{\"outlinewidth\":0,\"ticks\":\"\"}}}],\"scattermapbox\":[{\"type\":\"scattermapbox\",\"marker\":{\"colorbar\":{\"outlinewidth\":0,\"ticks\":\"\"}}}],\"scatterternary\":[{\"type\":\"scatterternary\",\"marker\":{\"colorbar\":{\"outlinewidth\":0,\"ticks\":\"\"}}}],\"scattercarpet\":[{\"type\":\"scattercarpet\",\"marker\":{\"colorbar\":{\"outlinewidth\":0,\"ticks\":\"\"}}}],\"carpet\":[{\"aaxis\":{\"endlinecolor\":\"#2a3f5f\",\"gridcolor\":\"white\",\"linecolor\":\"white\",\"minorgridcolor\":\"white\",\"startlinecolor\":\"#2a3f5f\"},\"baxis\":{\"endlinecolor\":\"#2a3f5f\",\"gridcolor\":\"white\",\"linecolor\":\"white\",\"minorgridcolor\":\"white\",\"startlinecolor\":\"#2a3f5f\"},\"type\":\"carpet\"}],\"table\":[{\"cells\":{\"fill\":{\"color\":\"#EBF0F8\"},\"line\":{\"color\":\"white\"}},\"header\":{\"fill\":{\"color\":\"#C8D4E3\"},\"line\":{\"color\":\"white\"}},\"type\":\"table\"}],\"barpolar\":[{\"marker\":{\"line\":{\"color\":\"#E5ECF6\",\"width\":0.5},\"pattern\":{\"fillmode\":\"overlay\",\"size\":10,\"solidity\":0.2}},\"type\":\"barpolar\"}],\"pie\":[{\"automargin\":true,\"type\":\"pie\"}]},\"layout\":{\"autotypenumbers\":\"strict\",\"colorway\":[\"#636efa\",\"#EF553B\",\"#00cc96\",\"#ab63fa\",\"#FFA15A\",\"#19d3f3\",\"#FF6692\",\"#B6E880\",\"#FF97FF\",\"#FECB52\"],\"font\":{\"color\":\"#2a3f5f\"},\"hovermode\":\"closest\",\"hoverlabel\":{\"align\":\"left\"},\"paper_bgcolor\":\"white\",\"plot_bgcolor\":\"#E5ECF6\",\"polar\":{\"bgcolor\":\"#E5ECF6\",\"angularaxis\":{\"gridcolor\":\"white\",\"linecolor\":\"white\",\"ticks\":\"\"},\"radialaxis\":{\"gridcolor\":\"white\",\"linecolor\":\"white\",\"ticks\":\"\"}},\"ternary\":{\"bgcolor\":\"#E5ECF6\",\"aaxis\":{\"gridcolor\":\"white\",\"linecolor\":\"white\",\"ticks\":\"\"},\"baxis\":{\"gridcolor\":\"white\",\"linecolor\":\"white\",\"ticks\":\"\"},\"caxis\":{\"gridcolor\":\"white\",\"linecolor\":\"white\",\"ticks\":\"\"}},\"coloraxis\":{\"colorbar\":{\"outlinewidth\":0,\"ticks\":\"\"}},\"colorscale\":{\"sequential\":[[0.0,\"#0d0887\"],[0.1111111111111111,\"#46039f\"],[0.2222222222222222,\"#7201a8\"],[0.3333333333333333,\"#9c179e\"],[0.4444444444444444,\"#bd3786\"],[0.5555555555555556,\"#d8576b\"],[0.6666666666666666,\"#ed7953\"],[0.7777777777777778,\"#fb9f3a\"],[0.8888888888888888,\"#fdca26\"],[1.0,\"#f0f921\"]],\"sequentialminus\":[[0.0,\"#0d0887\"],[0.1111111111111111,\"#46039f\"],[0.2222222222222222,\"#7201a8\"],[0.3333333333333333,\"#9c179e\"],[0.4444444444444444,\"#bd3786\"],[0.5555555555555556,\"#d8576b\"],[0.6666666666666666,\"#ed7953\"],[0.7777777777777778,\"#fb9f3a\"],[0.8888888888888888,\"#fdca26\"],[1.0,\"#f0f921\"]],\"diverging\":[[0,\"#8e0152\"],[0.1,\"#c51b7d\"],[0.2,\"#de77ae\"],[0.3,\"#f1b6da\"],[0.4,\"#fde0ef\"],[0.5,\"#f7f7f7\"],[0.6,\"#e6f5d0\"],[0.7,\"#b8e186\"],[0.8,\"#7fbc41\"],[0.9,\"#4d9221\"],[1,\"#276419\"]]},\"xaxis\":{\"gridcolor\":\"white\",\"linecolor\":\"white\",\"ticks\":\"\",\"title\":{\"standoff\":15},\"zerolinecolor\":\"white\",\"automargin\":true,\"zerolinewidth\":2},\"yaxis\":{\"gridcolor\":\"white\",\"linecolor\":\"white\",\"ticks\":\"\",\"title\":{\"standoff\":15},\"zerolinecolor\":\"white\",\"automargin\":true,\"zerolinewidth\":2},\"scene\":{\"xaxis\":{\"backgroundcolor\":\"#E5ECF6\",\"gridcolor\":\"white\",\"linecolor\":\"white\",\"showbackground\":true,\"ticks\":\"\",\"zerolinecolor\":\"white\",\"gridwidth\":2},\"yaxis\":{\"backgroundcolor\":\"#E5ECF6\",\"gridcolor\":\"white\",\"linecolor\":\"white\",\"showbackground\":true,\"ticks\":\"\",\"zerolinecolor\":\"white\",\"gridwidth\":2},\"zaxis\":{\"backgroundcolor\":\"#E5ECF6\",\"gridcolor\":\"white\",\"linecolor\":\"white\",\"showbackground\":true,\"ticks\":\"\",\"zerolinecolor\":\"white\",\"gridwidth\":2}},\"shapedefaults\":{\"line\":{\"color\":\"#2a3f5f\"}},\"annotationdefaults\":{\"arrowcolor\":\"#2a3f5f\",\"arrowhead\":0,\"arrowwidth\":1},\"geo\":{\"bgcolor\":\"white\",\"landcolor\":\"#E5ECF6\",\"subunitcolor\":\"white\",\"showland\":true,\"showlakes\":true,\"lakecolor\":\"white\"},\"title\":{\"x\":0.05},\"mapbox\":{\"style\":\"light\"}}},\"xaxis\":{\"anchor\":\"y\",\"domain\":[0.0,1.0],\"title\":{\"text\":\"region\"}},\"yaxis\":{\"anchor\":\"x\",\"domain\":[0.0,1.0],\"title\":{\"text\":\"bmi\"}},\"coloraxis\":{\"colorbar\":{\"title\":{\"text\":\"color\"}},\"colorscale\":[[0.0,\"#0d0887\"],[0.1111111111111111,\"#46039f\"],[0.2222222222222222,\"#7201a8\"],[0.3333333333333333,\"#9c179e\"],[0.4444444444444444,\"#bd3786\"],[0.5555555555555556,\"#d8576b\"],[0.6666666666666666,\"#ed7953\"],[0.7777777777777778,\"#fb9f3a\"],[0.8888888888888888,\"#fdca26\"],[1.0,\"#f0f921\"]]},\"legend\":{\"tracegroupgap\":0,\"itemsizing\":\"constant\"},\"margin\":{\"t\":60}},                        {\"responsive\": true}                    ).then(function(){\n",
              "                            \n",
              "var gd = document.getElementById('f8247d7a-b886-4a14-b656-8d50186353d6');\n",
              "var x = new MutationObserver(function (mutations, observer) {{\n",
              "        var display = window.getComputedStyle(gd).display;\n",
              "        if (!display || display === 'none') {{\n",
              "            console.log([gd, 'removed!']);\n",
              "            Plotly.purge(gd);\n",
              "            observer.disconnect();\n",
              "        }}\n",
              "}});\n",
              "\n",
              "// Listen for the removal of the full notebook cells\n",
              "var notebookContainer = gd.closest('#notebook-container');\n",
              "if (notebookContainer) {{\n",
              "    x.observe(notebookContainer, {childList: true});\n",
              "}}\n",
              "\n",
              "// Listen for the clearing of the current output cell\n",
              "var outputEl = gd.closest('.output');\n",
              "if (outputEl) {{\n",
              "    x.observe(outputEl, {childList: true});\n",
              "}}\n",
              "\n",
              "                        })                };                            </script>        </div>\n",
              "</body>\n",
              "</html>"
            ]
          },
          "metadata": {}
        }
      ]
    },
    {
      "cell_type": "code",
      "source": [
        "sns.jointplot(data=df1, x=df1['bmi'], y=df1['charges'],color='g')"
      ],
      "metadata": {
        "colab": {
          "base_uri": "https://localhost:8080/",
          "height": 624
        },
        "id": "tZu5skKOzPxb",
        "outputId": "256f2a3d-c497-4f02-c9ec-e95897d35323"
      },
      "execution_count": null,
      "outputs": [
        {
          "output_type": "execute_result",
          "data": {
            "text/plain": [
              "<seaborn.axisgrid.JointGrid at 0x7d6d7f39a2c0>"
            ]
          },
          "metadata": {},
          "execution_count": 23
        },
        {
          "output_type": "display_data",
          "data": {
            "text/plain": [
              "<Figure size 600x600 with 3 Axes>"
            ],
            "image/png": "[encoded data removed]"
          },
          "metadata": {}
        }
      ]
    },
    {
      "cell_type": "code",
      "source": [
        "sns.jointplot(data=df1, x=df1['region'], y=df1['charges'],color='g')"
      ],
      "metadata": {
        "colab": {
          "base_uri": "https://localhost:8080/",
          "height": 624
        },
        "id": "aF69L_1o0E96",
        "outputId": "bf933ac0-dbb5-4d37-a2fc-348948767b38"
      },
      "execution_count": null,
      "outputs": [
        {
          "output_type": "execute_result",
          "data": {
            "text/plain": [
              "<seaborn.axisgrid.JointGrid at 0x7d6d78905e40>"
            ]
          },
          "metadata": {},
          "execution_count": 46
        },
        {
          "output_type": "display_data",
          "data": {
            "text/plain": [
              "<Figure size 600x600 with 3 Axes>"
            ],
            "image/png": "[encoded data removed]"
          },
          "metadata": {}
        }
      ]
    },
    {
      "cell_type": "markdown",
      "source": [
        "**Linear Regression**"
      ],
      "metadata": {
        "id": "8l2pBN-vfHYF"
      }
    },
    {
      "cell_type": "code",
      "source": [
        "X=df.iloc[:,4:5]\n",
        "X"
      ],
      "metadata": {
        "colab": {
          "base_uri": "https://localhost:8080/",
          "height": 423
        },
        "id": "tV_SW1opdC1j",
        "outputId": "f4dc8efc-8ab6-4a8a-f6d4-3dbfc00c1082"
      },
      "execution_count": null,
      "outputs": [
        {
          "output_type": "execute_result",
          "data": {
            "text/plain": [
              "      smoker\n",
              "0          1\n",
              "1          0\n",
              "2          0\n",
              "3          0\n",
              "4          0\n",
              "...      ...\n",
              "1333       0\n",
              "1334       0\n",
              "1335       0\n",
              "1336       0\n",
              "1337       1\n",
              "\n",
              "[1338 rows x 1 columns]"
            ],
            "text/html": [
              "\n",
              "\n",
              "  <div id=\"df-471059a7-f138-4e90-acca-540a873ffde2\">\n",
              "    <div class=\"colab-df-container\">\n",
              "      <div>\n",
              "<style scoped>\n",
              "    .dataframe tbody tr th:only-of-type {\n",
              "        vertical-align: middle;\n",
              "    }\n",
              "\n",
              "    .dataframe tbody tr th {\n",
              "        vertical-align: top;\n",
              "    }\n",
              "\n",
              "    .dataframe thead th {\n",
              "        text-align: right;\n",
              "    }\n",
              "</style>\n",
              "<table border=\"1\" class=\"dataframe\">\n",
              "  <thead>\n",
              "    <tr style=\"text-align: right;\">\n",
              "      <th></th>\n",
              "      <th>smoker</th>\n",
              "    </tr>\n",
              "  </thead>\n",
              "  <tbody>\n",
              "    <tr>\n",
              "      <th>0</th>\n",
              "      <td>1</td>\n",
              "    </tr>\n",
              "    <tr>\n",
              "      <th>1</th>\n",
              "      <td>0</td>\n",
              "    </tr>\n",
              "    <tr>\n",
              "      <th>2</th>\n",
              "      <td>0</td>\n",
              "    </tr>\n",
              "    <tr>\n",
              "      <th>3</th>\n",
              "      <td>0</td>\n",
              "    </tr>\n",
              "    <tr>\n",
              "      <th>4</th>\n",
              "      <td>0</td>\n",
              "    </tr>\n",
              "    <tr>\n",
              "      <th>...</th>\n",
              "      <td>...</td>\n",
              "    </tr>\n",
              "    <tr>\n",
              "      <th>1333</th>\n",
              "      <td>0</td>\n",
              "    </tr>\n",
              "    <tr>\n",
              "      <th>1334</th>\n",
              "      <td>0</td>\n",
              "    </tr>\n",
              "    <tr>\n",
              "      <th>1335</th>\n",
              "      <td>0</td>\n",
              "    </tr>\n",
              "    <tr>\n",
              "      <th>1336</th>\n",
              "      <td>0</td>\n",
              "    </tr>\n",
              "    <tr>\n",
              "      <th>1337</th>\n",
              "      <td>1</td>\n",
              "    </tr>\n",
              "  </tbody>\n",
              "</table>\n",
              "<p>1338 rows × 1 columns</p>\n",
              "</div>\n",
              "      <button class=\"colab-df-convert\" onclick=\"convertToInteractive('df-471059a7-f138-4e90-acca-540a873ffde2')\"\n",
              "              title=\"Convert this dataframe to an interactive table.\"\n",
              "              style=\"display:none;\">\n",
              "\n",
              "  <svg xmlns=\"http://www.w3.org/2000/svg\" height=\"24px\"viewBox=\"0 0 24 24\"\n",
              "       width=\"24px\">\n",
              "    <path d=\"M0 0h24v24H0V0z\" fill=\"none\"/>\n",
              "    <path d=\"M18.56 5.44l.94 2.06.94-2.06 2.06-.94-2.06-.94-.94-2.06-.94 2.06-2.06.94zm-11 1L8.5 8.5l.94-2.06 2.06-.94-2.06-.94L8.5 2.5l-.94 2.06-2.06.94zm10 10l.94 2.06.94-2.06 2.06-.94-2.06-.94-.94-2.06-.94 2.06-2.06.94z\"/><path d=\"M17.41 7.96l-1.37-1.37c-.4-.4-.92-.59-1.43-.59-.52 0-1.04.2-1.43.59L10.3 9.45l-7.72 7.72c-.78.78-.78 2.05 0 2.83L4 21.41c.39.39.9.59 1.41.59.51 0 1.02-.2 1.41-.59l7.78-7.78 2.81-2.81c.8-.78.8-2.07 0-2.86zM5.41 20L4 18.59l7.72-7.72 1.47 1.35L5.41 20z\"/>\n",
              "  </svg>\n",
              "      </button>\n",
              "\n",
              "\n",
              "\n",
              "    <div id=\"df-3033842f-bab4-466b-a5a1-9dfdb67fd181\">\n",
              "      <button class=\"colab-df-quickchart\" onclick=\"quickchart('df-3033842f-bab4-466b-a5a1-9dfdb67fd181')\"\n",
              "              title=\"Suggest charts.\"\n",
              "              style=\"display:none;\">\n",
              "\n",
              "<svg xmlns=\"http://www.w3.org/2000/svg\" height=\"24px\"viewBox=\"0 0 24 24\"\n",
              "     width=\"24px\">\n",
              "    <g>\n",
              "        <path d=\"M19 3H5c-1.1 0-2 .9-2 2v14c0 1.1.9 2 2 2h14c1.1 0 2-.9 2-2V5c0-1.1-.9-2-2-2zM9 17H7v-7h2v7zm4 0h-2V7h2v10zm4 0h-2v-4h2v4z\"/>\n",
              "    </g>\n",
              "</svg>\n",
              "      </button>\n",
              "    </div>\n",
              "\n",
              "<style>\n",
              "  .colab-df-quickchart {\n",
              "    background-color: #E8F0FE;\n",
              "    border: none;\n",
              "    border-radius: 50%;\n",
              "    cursor: pointer;\n",
              "    display: none;\n",
              "    fill: #1967D2;\n",
              "    height: 32px;\n",
              "    padding: 0 0 0 0;\n",
              "    width: 32px;\n",
              "  }\n",
              "\n",
              "  .colab-df-quickchart:hover {\n",
              "    background-color: #E2EBFA;\n",
              "    box-shadow: 0px 1px 2px rgba(60, 64, 67, 0.3), 0px 1px 3px 1px rgba(60, 64, 67, 0.15);\n",
              "    fill: #174EA6;\n",
              "  }\n",
              "\n",
              "  [theme=dark] .colab-df-quickchart {\n",
              "    background-color: #3B4455;\n",
              "    fill: #D2E3FC;\n",
              "  }\n",
              "\n",
              "  [theme=dark] .colab-df-quickchart:hover {\n",
              "    background-color: #434B5C;\n",
              "    box-shadow: 0px 1px 3px 1px rgba(0, 0, 0, 0.15);\n",
              "    filter: drop-shadow(0px 1px 2px rgba(0, 0, 0, 0.3));\n",
              "    fill: #FFFFFF;\n",
              "  }\n",
              "</style>\n",
              "\n",
              "    <script>\n",
              "      async function quickchart(key) {\n",
              "        const containerElement = document.querySelector('#' + key);\n",
              "        const charts = await google.colab.kernel.invokeFunction(\n",
              "            'suggestCharts', [key], {});\n",
              "      }\n",
              "    </script>\n",
              "\n",
              "      <script>\n",
              "\n",
              "function displayQuickchartButton(domScope) {\n",
              "  let quickchartButtonEl =\n",
              "    domScope.querySelector('#df-3033842f-bab4-466b-a5a1-9dfdb67fd181 button.colab-df-quickchart');\n",
              "  quickchartButtonEl.style.display =\n",
              "    google.colab.kernel.accessAllowed ? 'block' : 'none';\n",
              "}\n",
              "\n",
              "        displayQuickchartButton(document);\n",
              "      </script>\n",
              "      <style>\n",
              "    .colab-df-container {\n",
              "      display:flex;\n",
              "      flex-wrap:wrap;\n",
              "      gap: 12px;\n",
              "    }\n",
              "\n",
              "    .colab-df-convert {\n",
              "      background-color: #E8F0FE;\n",
              "      border: none;\n",
              "      border-radius: 50%;\n",
              "      cursor: pointer;\n",
              "      display: none;\n",
              "      fill: #1967D2;\n",
              "      height: 32px;\n",
              "      padding: 0 0 0 0;\n",
              "      width: 32px;\n",
              "    }\n",
              "\n",
              "    .colab-df-convert:hover {\n",
              "      background-color: #E2EBFA;\n",
              "      box-shadow: 0px 1px 2px rgba(60, 64, 67, 0.3), 0px 1px 3px 1px rgba(60, 64, 67, 0.15);\n",
              "      fill: #174EA6;\n",
              "    }\n",
              "\n",
              "    [theme=dark] .colab-df-convert {\n",
              "      background-color: #3B4455;\n",
              "      fill: #D2E3FC;\n",
              "    }\n",
              "\n",
              "    [theme=dark] .colab-df-convert:hover {\n",
              "      background-color: #434B5C;\n",
              "      box-shadow: 0px 1px 3px 1px rgba(0, 0, 0, 0.15);\n",
              "      filter: drop-shadow(0px 1px 2px rgba(0, 0, 0, 0.3));\n",
              "      fill: #FFFFFF;\n",
              "    }\n",
              "  </style>\n",
              "\n",
              "      <script>\n",
              "        const buttonEl =\n",
              "          document.querySelector('#df-471059a7-f138-4e90-acca-540a873ffde2 button.colab-df-convert');\n",
              "        buttonEl.style.display =\n",
              "          google.colab.kernel.accessAllowed ? 'block' : 'none';\n",
              "\n",
              "        async function convertToInteractive(key) {\n",
              "          const element = document.querySelector('#df-471059a7-f138-4e90-acca-540a873ffde2');\n",
              "          const dataTable =\n",
              "            await google.colab.kernel.invokeFunction('convertToInteractive',\n",
              "                                                     [key], {});\n",
              "          if (!dataTable) return;\n",
              "\n",
              "          const docLinkHtml = 'Like what you see? Visit the ' +\n",
              "            '<a target=\"_blank\" href=https://colab.research.google.com/notebooks/data_table.ipynb>data table notebook</a>'\n",
              "            + ' to learn more about interactive tables.';\n",
              "          element.innerHTML = '';\n",
              "          dataTable['output_type'] = 'display_data';\n",
              "          await google.colab.output.renderOutput(dataTable, element);\n",
              "          const docLink = document.createElement('div');\n",
              "          docLink.innerHTML = docLinkHtml;\n",
              "          element.appendChild(docLink);\n",
              "        }\n",
              "      </script>\n",
              "    </div>\n",
              "  </div>\n"
            ]
          },
          "metadata": {},
          "execution_count": 24
        }
      ]
    },
    {
      "cell_type": "code",
      "source": [
        "y=df.iloc[:,-1]\n",
        "y"
      ],
      "metadata": {
        "colab": {
          "base_uri": "https://localhost:8080/"
        },
        "id": "mtEgn57QGKlm",
        "outputId": "6624c511-488e-48e7-b95a-f26b734371c6"
      },
      "execution_count": null,
      "outputs": [
        {
          "output_type": "execute_result",
          "data": {
            "text/plain": [
              "0       16884.92400\n",
              "1        1725.55230\n",
              "2        4449.46200\n",
              "3       21984.47061\n",
              "4        3866.85520\n",
              "           ...     \n",
              "1333    10600.54830\n",
              "1334     2205.98080\n",
              "1335     1629.83350\n",
              "1336     2007.94500\n",
              "1337    29141.36030\n",
              "Name: charges, Length: 1338, dtype: float64"
            ]
          },
          "metadata": {},
          "execution_count": 25
        }
      ]
    },
    {
      "cell_type": "code",
      "source": [
        "ms=MinMaxScaler()\n",
        "X_ms=ms.fit_transform(X)"
      ],
      "metadata": {
        "id": "wSNlXpAfd7mL"
      },
      "execution_count": null,
      "outputs": []
    },
    {
      "cell_type": "code",
      "source": [
        "from sklearn.model_selection import train_test_split\n",
        "X_train,X_test,y_train,y_test=train_test_split(X,y,test_size=0.3,random_state=1)"
      ],
      "metadata": {
        "id": "mDgUhZwkHAa3"
      },
      "execution_count": null,
      "outputs": []
    },
    {
      "cell_type": "code",
      "source": [
        "X_train.shape"
      ],
      "metadata": {
        "colab": {
          "base_uri": "https://localhost:8080/"
        },
        "id": "eKGW6mG1Vhb_",
        "outputId": "43979855-de9a-469d-92ce-f78a40495cf2"
      },
      "execution_count": null,
      "outputs": [
        {
          "output_type": "execute_result",
          "data": {
            "text/plain": [
              "(936, 1)"
            ]
          },
          "metadata": {},
          "execution_count": 28
        }
      ]
    },
    {
      "cell_type": "code",
      "source": [
        "y_train.shape"
      ],
      "metadata": {
        "colab": {
          "base_uri": "https://localhost:8080/"
        },
        "id": "lLnL3WWEVp22",
        "outputId": "7ea20d14-7a79-45aa-f17f-339d7c455038"
      },
      "execution_count": null,
      "outputs": [
        {
          "output_type": "execute_result",
          "data": {
            "text/plain": [
              "(936,)"
            ]
          },
          "metadata": {},
          "execution_count": 29
        }
      ]
    },
    {
      "cell_type": "code",
      "source": [
        "from sklearn.linear_model import LinearRegression\n",
        "lr=LinearRegression()\n",
        "lr.fit(X_train,y_train)"
      ],
      "metadata": {
        "colab": {
          "base_uri": "https://localhost:8080/",
          "height": 74
        },
        "id": "evGsUvX4aACr",
        "outputId": "158e89d7-716e-4835-8ce4-4b17adb21326"
      },
      "execution_count": null,
      "outputs": [
        {
          "output_type": "execute_result",
          "data": {
            "text/plain": [
              "LinearRegression()"
            ],
            "text/html": [
              "<style>#sk-container-id-1 {color: black;background-color: white;}#sk-container-id-1 pre{padding: 0;}#sk-container-id-1 div.sk-toggleable {background-color: white;}#sk-container-id-1 label.sk-toggleable__label {cursor: pointer;display: block;width: 100%;margin-bottom: 0;padding: 0.3em;box-sizing: border-box;text-align: center;}#sk-container-id-1 label.sk-toggleable__label-arrow:before {content: \"▸\";float: left;margin-right: 0.25em;color: #696969;}#sk-container-id-1 label.sk-toggleable__label-arrow:hover:before {color: black;}#sk-container-id-1 div.sk-estimator:hover label.sk-toggleable__label-arrow:before {color: black;}#sk-container-id-1 div.sk-toggleable__content {max-height: 0;max-width: 0;overflow: hidden;text-align: left;background-color: #f0f8ff;}#sk-container-id-1 div.sk-toggleable__content pre {margin: 0.2em;color: black;border-radius: 0.25em;background-color: #f0f8ff;}#sk-container-id-1 input.sk-toggleable__control:checked~div.sk-toggleable__content {max-height: 200px;max-width: 100%;overflow: auto;}#sk-container-id-1 input.sk-toggleable__control:checked~label.sk-toggleable__label-arrow:before {content: \"▾\";}#sk-container-id-1 div.sk-estimator input.sk-toggleable__control:checked~label.sk-toggleable__label {background-color: #d4ebff;}#sk-container-id-1 div.sk-label input.sk-toggleable__control:checked~label.sk-toggleable__label {background-color: #d4ebff;}#sk-container-id-1 input.sk-hidden--visually {border: 0;clip: rect(1px 1px 1px 1px);clip: rect(1px, 1px, 1px, 1px);height: 1px;margin: -1px;overflow: hidden;padding: 0;position: absolute;width: 1px;}#sk-container-id-1 div.sk-estimator {font-family: monospace;background-color: #f0f8ff;border: 1px dotted black;border-radius: 0.25em;box-sizing: border-box;margin-bottom: 0.5em;}#sk-container-id-1 div.sk-estimator:hover {background-color: #d4ebff;}#sk-container-id-1 div.sk-parallel-item::after {content: \"\";width: 100%;border-bottom: 1px solid gray;flex-grow: 1;}#sk-container-id-1 div.sk-label:hover label.sk-toggleable__label {background-color: #d4ebff;}#sk-container-id-1 div.sk-serial::before {content: \"\";position: absolute;border-left: 1px solid gray;box-sizing: border-box;top: 0;bottom: 0;left: 50%;z-index: 0;}#sk-container-id-1 div.sk-serial {display: flex;flex-direction: column;align-items: center;background-color: white;padding-right: 0.2em;padding-left: 0.2em;position: relative;}#sk-container-id-1 div.sk-item {position: relative;z-index: 1;}#sk-container-id-1 div.sk-parallel {display: flex;align-items: stretch;justify-content: center;background-color: white;position: relative;}#sk-container-id-1 div.sk-item::before, #sk-container-id-1 div.sk-parallel-item::before {content: \"\";position: absolute;border-left: 1px solid gray;box-sizing: border-box;top: 0;bottom: 0;left: 50%;z-index: -1;}#sk-container-id-1 div.sk-parallel-item {display: flex;flex-direction: column;z-index: 1;position: relative;background-color: white;}#sk-container-id-1 div.sk-parallel-item:first-child::after {align-self: flex-end;width: 50%;}#sk-container-id-1 div.sk-parallel-item:last-child::after {align-self: flex-start;width: 50%;}#sk-container-id-1 div.sk-parallel-item:only-child::after {width: 0;}#sk-container-id-1 div.sk-dashed-wrapped {border: 1px dashed gray;margin: 0 0.4em 0.5em 0.4em;box-sizing: border-box;padding-bottom: 0.4em;background-color: white;}#sk-container-id-1 div.sk-label label {font-family: monospace;font-weight: bold;display: inline-block;line-height: 1.2em;}#sk-container-id-1 div.sk-label-container {text-align: center;}#sk-container-id-1 div.sk-container {/* jupyter's `normalize.less` sets `[hidden] { display: none; }` but bootstrap.min.css set `[hidden] { display: none !important; }` so we also need the `!important` here to be able to override the default hidden behavior on the sphinx rendered scikit-learn.org. See: https://github.com/scikit-learn/scikit-learn/issues/21755 */display: inline-block !important;position: relative;}#sk-container-id-1 div.sk-text-repr-fallback {display: none;}</style><div id=\"sk-container-id-1\" class=\"sk-top-container\"><div class=\"sk-text-repr-fallback\"><pre>LinearRegression()</pre><b>In a Jupyter environment, please rerun this cell to show the HTML representation or trust the notebook. <br />On GitHub, the HTML representation is unable to render, please try loading this page with nbviewer.org.</b></div><div class=\"sk-container\" hidden><div class=\"sk-item\"><div class=\"sk-estimator sk-toggleable\"><input class=\"sk-toggleable__control sk-hidden--visually\" id=\"sk-estimator-id-1\" type=\"checkbox\" checked><label for=\"sk-estimator-id-1\" class=\"sk-toggleable__label sk-toggleable__label-arrow\">LinearRegression</label><div class=\"sk-toggleable__content\"><pre>LinearRegression()</pre></div></div></div></div></div>"
            ]
          },
          "metadata": {},
          "execution_count": 30
        }
      ]
    },
    {
      "cell_type": "code",
      "source": [
        "y_pred=lr.predict(X_test)\n",
        "y_pred"
      ],
      "metadata": {
        "colab": {
          "base_uri": "https://localhost:8080/"
        },
        "id": "9_R1oRukakdM",
        "outputId": "88ac241d-4e52-4103-cb7a-a9eb1f2d7da5"
      },
      "execution_count": null,
      "outputs": [
        {
          "output_type": "execute_result",
          "data": {
            "text/plain": [
              "array([ 8330.1539298 ,  8330.1539298 ,  8330.1539298 ,  8330.1539298 ,\n",
              "        8330.1539298 , 32319.61386845,  8330.1539298 ,  8330.1539298 ,\n",
              "        8330.1539298 , 32319.61386845,  8330.1539298 ,  8330.1539298 ,\n",
              "        8330.1539298 ,  8330.1539298 ,  8330.1539298 ,  8330.1539298 ,\n",
              "        8330.1539298 ,  8330.1539298 ,  8330.1539298 ,  8330.1539298 ,\n",
              "        8330.1539298 , 32319.61386845,  8330.1539298 ,  8330.1539298 ,\n",
              "        8330.1539298 ,  8330.1539298 ,  8330.1539298 ,  8330.1539298 ,\n",
              "        8330.1539298 ,  8330.1539298 ,  8330.1539298 ,  8330.1539298 ,\n",
              "       32319.61386845, 32319.61386845, 32319.61386845,  8330.1539298 ,\n",
              "       32319.61386845, 32319.61386845,  8330.1539298 , 32319.61386845,\n",
              "        8330.1539298 ,  8330.1539298 ,  8330.1539298 ,  8330.1539298 ,\n",
              "        8330.1539298 ,  8330.1539298 ,  8330.1539298 , 32319.61386845,\n",
              "        8330.1539298 ,  8330.1539298 ,  8330.1539298 ,  8330.1539298 ,\n",
              "        8330.1539298 ,  8330.1539298 , 32319.61386845,  8330.1539298 ,\n",
              "       32319.61386845,  8330.1539298 ,  8330.1539298 ,  8330.1539298 ,\n",
              "        8330.1539298 ,  8330.1539298 , 32319.61386845,  8330.1539298 ,\n",
              "        8330.1539298 ,  8330.1539298 ,  8330.1539298 ,  8330.1539298 ,\n",
              "        8330.1539298 , 32319.61386845, 32319.61386845, 32319.61386845,\n",
              "        8330.1539298 ,  8330.1539298 ,  8330.1539298 , 32319.61386845,\n",
              "        8330.1539298 ,  8330.1539298 ,  8330.1539298 ,  8330.1539298 ,\n",
              "        8330.1539298 ,  8330.1539298 ,  8330.1539298 ,  8330.1539298 ,\n",
              "       32319.61386845, 32319.61386845,  8330.1539298 , 32319.61386845,\n",
              "        8330.1539298 ,  8330.1539298 , 32319.61386845, 32319.61386845,\n",
              "        8330.1539298 ,  8330.1539298 ,  8330.1539298 ,  8330.1539298 ,\n",
              "        8330.1539298 ,  8330.1539298 ,  8330.1539298 ,  8330.1539298 ,\n",
              "        8330.1539298 , 32319.61386845, 32319.61386845, 32319.61386845,\n",
              "       32319.61386845, 32319.61386845,  8330.1539298 ,  8330.1539298 ,\n",
              "        8330.1539298 ,  8330.1539298 ,  8330.1539298 ,  8330.1539298 ,\n",
              "        8330.1539298 ,  8330.1539298 ,  8330.1539298 ,  8330.1539298 ,\n",
              "        8330.1539298 ,  8330.1539298 ,  8330.1539298 ,  8330.1539298 ,\n",
              "        8330.1539298 ,  8330.1539298 ,  8330.1539298 ,  8330.1539298 ,\n",
              "       32319.61386845,  8330.1539298 ,  8330.1539298 , 32319.61386845,\n",
              "       32319.61386845,  8330.1539298 , 32319.61386845,  8330.1539298 ,\n",
              "        8330.1539298 , 32319.61386845,  8330.1539298 ,  8330.1539298 ,\n",
              "        8330.1539298 ,  8330.1539298 ,  8330.1539298 ,  8330.1539298 ,\n",
              "        8330.1539298 ,  8330.1539298 , 32319.61386845,  8330.1539298 ,\n",
              "        8330.1539298 ,  8330.1539298 ,  8330.1539298 ,  8330.1539298 ,\n",
              "        8330.1539298 ,  8330.1539298 ,  8330.1539298 ,  8330.1539298 ,\n",
              "        8330.1539298 ,  8330.1539298 ,  8330.1539298 ,  8330.1539298 ,\n",
              "        8330.1539298 ,  8330.1539298 ,  8330.1539298 ,  8330.1539298 ,\n",
              "        8330.1539298 , 32319.61386845,  8330.1539298 ,  8330.1539298 ,\n",
              "        8330.1539298 ,  8330.1539298 , 32319.61386845,  8330.1539298 ,\n",
              "        8330.1539298 ,  8330.1539298 ,  8330.1539298 ,  8330.1539298 ,\n",
              "       32319.61386845, 32319.61386845,  8330.1539298 ,  8330.1539298 ,\n",
              "        8330.1539298 ,  8330.1539298 ,  8330.1539298 ,  8330.1539298 ,\n",
              "        8330.1539298 ,  8330.1539298 ,  8330.1539298 ,  8330.1539298 ,\n",
              "        8330.1539298 , 32319.61386845,  8330.1539298 ,  8330.1539298 ,\n",
              "        8330.1539298 ,  8330.1539298 ,  8330.1539298 , 32319.61386845,\n",
              "        8330.1539298 ,  8330.1539298 ,  8330.1539298 ,  8330.1539298 ,\n",
              "        8330.1539298 ,  8330.1539298 ,  8330.1539298 ,  8330.1539298 ,\n",
              "        8330.1539298 ,  8330.1539298 ,  8330.1539298 ,  8330.1539298 ,\n",
              "        8330.1539298 ,  8330.1539298 ,  8330.1539298 ,  8330.1539298 ,\n",
              "        8330.1539298 ,  8330.1539298 ,  8330.1539298 , 32319.61386845,\n",
              "        8330.1539298 ,  8330.1539298 ,  8330.1539298 , 32319.61386845,\n",
              "        8330.1539298 , 32319.61386845,  8330.1539298 , 32319.61386845,\n",
              "        8330.1539298 , 32319.61386845,  8330.1539298 ,  8330.1539298 ,\n",
              "        8330.1539298 ,  8330.1539298 ,  8330.1539298 ,  8330.1539298 ,\n",
              "       32319.61386845,  8330.1539298 ,  8330.1539298 ,  8330.1539298 ,\n",
              "       32319.61386845,  8330.1539298 ,  8330.1539298 ,  8330.1539298 ,\n",
              "       32319.61386845,  8330.1539298 ,  8330.1539298 ,  8330.1539298 ,\n",
              "        8330.1539298 ,  8330.1539298 ,  8330.1539298 ,  8330.1539298 ,\n",
              "        8330.1539298 , 32319.61386845,  8330.1539298 ,  8330.1539298 ,\n",
              "        8330.1539298 ,  8330.1539298 ,  8330.1539298 ,  8330.1539298 ,\n",
              "        8330.1539298 ,  8330.1539298 ,  8330.1539298 ,  8330.1539298 ,\n",
              "       32319.61386845, 32319.61386845,  8330.1539298 , 32319.61386845,\n",
              "        8330.1539298 ,  8330.1539298 ,  8330.1539298 , 32319.61386845,\n",
              "       32319.61386845, 32319.61386845,  8330.1539298 ,  8330.1539298 ,\n",
              "        8330.1539298 ,  8330.1539298 ,  8330.1539298 ,  8330.1539298 ,\n",
              "        8330.1539298 ,  8330.1539298 ,  8330.1539298 , 32319.61386845,\n",
              "        8330.1539298 ,  8330.1539298 , 32319.61386845, 32319.61386845,\n",
              "        8330.1539298 ,  8330.1539298 ,  8330.1539298 ,  8330.1539298 ,\n",
              "        8330.1539298 ,  8330.1539298 ,  8330.1539298 ,  8330.1539298 ,\n",
              "        8330.1539298 ,  8330.1539298 ,  8330.1539298 ,  8330.1539298 ,\n",
              "        8330.1539298 ,  8330.1539298 ,  8330.1539298 , 32319.61386845,\n",
              "        8330.1539298 ,  8330.1539298 ,  8330.1539298 ,  8330.1539298 ,\n",
              "        8330.1539298 ,  8330.1539298 ,  8330.1539298 ,  8330.1539298 ,\n",
              "        8330.1539298 , 32319.61386845,  8330.1539298 ,  8330.1539298 ,\n",
              "        8330.1539298 ,  8330.1539298 ,  8330.1539298 ,  8330.1539298 ,\n",
              "       32319.61386845,  8330.1539298 ,  8330.1539298 ,  8330.1539298 ,\n",
              "        8330.1539298 ,  8330.1539298 ,  8330.1539298 ,  8330.1539298 ,\n",
              "        8330.1539298 , 32319.61386845,  8330.1539298 ,  8330.1539298 ,\n",
              "        8330.1539298 ,  8330.1539298 ,  8330.1539298 ,  8330.1539298 ,\n",
              "        8330.1539298 , 32319.61386845,  8330.1539298 ,  8330.1539298 ,\n",
              "        8330.1539298 ,  8330.1539298 ,  8330.1539298 ,  8330.1539298 ,\n",
              "        8330.1539298 ,  8330.1539298 ,  8330.1539298 ,  8330.1539298 ,\n",
              "       32319.61386845,  8330.1539298 , 32319.61386845,  8330.1539298 ,\n",
              "        8330.1539298 , 32319.61386845,  8330.1539298 ,  8330.1539298 ,\n",
              "        8330.1539298 ,  8330.1539298 ,  8330.1539298 ,  8330.1539298 ,\n",
              "        8330.1539298 , 32319.61386845, 32319.61386845,  8330.1539298 ,\n",
              "        8330.1539298 , 32319.61386845,  8330.1539298 ,  8330.1539298 ,\n",
              "        8330.1539298 ,  8330.1539298 ,  8330.1539298 ,  8330.1539298 ,\n",
              "        8330.1539298 ,  8330.1539298 , 32319.61386845, 32319.61386845,\n",
              "        8330.1539298 , 32319.61386845, 32319.61386845,  8330.1539298 ,\n",
              "        8330.1539298 ,  8330.1539298 ,  8330.1539298 ,  8330.1539298 ,\n",
              "        8330.1539298 ,  8330.1539298 ,  8330.1539298 ,  8330.1539298 ,\n",
              "        8330.1539298 , 32319.61386845, 32319.61386845, 32319.61386845,\n",
              "        8330.1539298 ,  8330.1539298 ,  8330.1539298 ,  8330.1539298 ,\n",
              "        8330.1539298 ,  8330.1539298 , 32319.61386845, 32319.61386845,\n",
              "        8330.1539298 , 32319.61386845, 32319.61386845, 32319.61386845,\n",
              "        8330.1539298 ,  8330.1539298 ,  8330.1539298 ,  8330.1539298 ,\n",
              "       32319.61386845,  8330.1539298 ])"
            ]
          },
          "metadata": {},
          "execution_count": 31
        }
      ]
    },
    {
      "cell_type": "code",
      "source": [
        "import matplotlib.pyplot as plt\n",
        "plt.scatter(X_train,y_train)\n",
        "plt.plot(X_test,y_pred,color='red')\n",
        "plt.title('smoker vs charges')\n",
        "plt.xlabel('smoker')\n",
        "plt.ylabel('charges')"
      ],
      "metadata": {
        "colab": {
          "base_uri": "https://localhost:8080/",
          "height": 489
        },
        "id": "BXo8Oe4dWkLY",
        "outputId": "9106b1f3-88fa-4247-9685-23f38686b51b"
      },
      "execution_count": null,
      "outputs": [
        {
          "output_type": "execute_result",
          "data": {
            "text/plain": [
              "Text(0, 0.5, 'charges')"
            ]
          },
          "metadata": {},
          "execution_count": 32
        },
        {
          "output_type": "display_data",
          "data": {
            "text/plain": [
              "<Figure size 640x480 with 1 Axes>"
            ],
            "image/png": "[encoded data removed]"
          },
          "metadata": {}
        }
      ]
    },
    {
      "cell_type": "code",
      "source": [
        "import numpy as np\n",
        "from sklearn.metrics import mean_absolute_error,mean_squared_error,r2_score\n",
        "print('mean absolute error:',mean_absolute_error(y_test,y_pred))\n",
        "print('mean squared error:',mean_squared_error(y_test,y_pred))\n",
        "print('Root mean squared error:',np.sqrt(mean_squared_error(y_test,y_pred)))\n",
        "print('r2_score:',r2_score(y_test,y_pred))"
      ],
      "metadata": {
        "id": "Q5ILGBrogGH0",
        "colab": {
          "base_uri": "https://localhost:8080/"
        },
        "outputId": "c05271e4-e011-4aaa-c6bb-d580299fc91c"
      },
      "execution_count": null,
      "outputs": [
        {
          "output_type": "stream",
          "name": "stdout",
          "text": [
            "mean absolute error: 5755.270752912443\n",
            "mean squared error: 58830309.60850396\n",
            "Root mean squared error: 7670.0918904863165\n",
            "r2_score: 0.5848737597563067\n"
          ]
        }
      ]
    },
    {
      "cell_type": "markdown",
      "source": [
        "**MultiLinear Regression**"
      ],
      "metadata": {
        "id": "6ozRxo77fUTT"
      }
    },
    {
      "cell_type": "code",
      "source": [
        "x=df.iloc[:,:-1]\n",
        "x"
      ],
      "metadata": {
        "id": "BRn2yNqjfaSS",
        "colab": {
          "base_uri": "https://localhost:8080/",
          "height": 423
        },
        "outputId": "ef7a851c-a00e-4731-8af1-c6fe1c9439d5"
      },
      "execution_count": null,
      "outputs": [
        {
          "output_type": "execute_result",
          "data": {
            "text/plain": [
              "      age  sex     bmi  children  smoker  region\n",
              "0      19    0  27.900         0       1       3\n",
              "1      18    1  33.770         1       0       2\n",
              "2      28    1  33.000         3       0       2\n",
              "3      33    1  22.705         0       0       1\n",
              "4      32    1  28.880         0       0       1\n",
              "...   ...  ...     ...       ...     ...     ...\n",
              "1333   50    1  30.970         3       0       1\n",
              "1334   18    0  31.920         0       0       0\n",
              "1335   18    0  36.850         0       0       2\n",
              "1336   21    0  25.800         0       0       3\n",
              "1337   61    0  29.070         0       1       1\n",
              "\n",
              "[1338 rows x 6 columns]"
            ],
            "text/html": [
              "\n",
              "\n",
              "  <div id=\"df-2df2c4fe-e013-4f8b-a1d3-d851bb250914\">\n",
              "    <div class=\"colab-df-container\">\n",
              "      <div>\n",
              "<style scoped>\n",
              "    .dataframe tbody tr th:only-of-type {\n",
              "        vertical-align: middle;\n",
              "    }\n",
              "\n",
              "    .dataframe tbody tr th {\n",
              "        vertical-align: top;\n",
              "    }\n",
              "\n",
              "    .dataframe thead th {\n",
              "        text-align: right;\n",
              "    }\n",
              "</style>\n",
              "<table border=\"1\" class=\"dataframe\">\n",
              "  <thead>\n",
              "    <tr style=\"text-align: right;\">\n",
              "      <th></th>\n",
              "      <th>age</th>\n",
              "      <th>sex</th>\n",
              "      <th>bmi</th>\n",
              "      <th>children</th>\n",
              "      <th>smoker</th>\n",
              "      <th>region</th>\n",
              "    </tr>\n",
              "  </thead>\n",
              "  <tbody>\n",
              "    <tr>\n",
              "      <th>0</th>\n",
              "      <td>19</td>\n",
              "      <td>0</td>\n",
              "      <td>27.900</td>\n",
              "      <td>0</td>\n",
              "      <td>1</td>\n",
              "      <td>3</td>\n",
              "    </tr>\n",
              "    <tr>\n",
              "      <th>1</th>\n",
              "      <td>18</td>\n",
              "      <td>1</td>\n",
              "      <td>33.770</td>\n",
              "      <td>1</td>\n",
              "      <td>0</td>\n",
              "      <td>2</td>\n",
              "    </tr>\n",
              "    <tr>\n",
              "      <th>2</th>\n",
              "      <td>28</td>\n",
              "      <td>1</td>\n",
              "      <td>33.000</td>\n",
              "      <td>3</td>\n",
              "      <td>0</td>\n",
              "      <td>2</td>\n",
              "    </tr>\n",
              "    <tr>\n",
              "      <th>3</th>\n",
              "      <td>33</td>\n",
              "      <td>1</td>\n",
              "      <td>22.705</td>\n",
              "      <td>0</td>\n",
              "      <td>0</td>\n",
              "      <td>1</td>\n",
              "    </tr>\n",
              "    <tr>\n",
              "      <th>4</th>\n",
              "      <td>32</td>\n",
              "      <td>1</td>\n",
              "      <td>28.880</td>\n",
              "      <td>0</td>\n",
              "      <td>0</td>\n",
              "      <td>1</td>\n",
              "    </tr>\n",
              "    <tr>\n",
              "      <th>...</th>\n",
              "      <td>...</td>\n",
              "      <td>...</td>\n",
              "      <td>...</td>\n",
              "      <td>...</td>\n",
              "      <td>...</td>\n",
              "      <td>...</td>\n",
              "    </tr>\n",
              "    <tr>\n",
              "      <th>1333</th>\n",
              "      <td>50</td>\n",
              "      <td>1</td>\n",
              "      <td>30.970</td>\n",
              "      <td>3</td>\n",
              "      <td>0</td>\n",
              "      <td>1</td>\n",
              "    </tr>\n",
              "    <tr>\n",
              "      <th>1334</th>\n",
              "      <td>18</td>\n",
              "      <td>0</td>\n",
              "      <td>31.920</td>\n",
              "      <td>0</td>\n",
              "      <td>0</td>\n",
              "      <td>0</td>\n",
              "    </tr>\n",
              "    <tr>\n",
              "      <th>1335</th>\n",
              "      <td>18</td>\n",
              "      <td>0</td>\n",
              "      <td>36.850</td>\n",
              "      <td>0</td>\n",
              "      <td>0</td>\n",
              "      <td>2</td>\n",
              "    </tr>\n",
              "    <tr>\n",
              "      <th>1336</th>\n",
              "      <td>21</td>\n",
              "      <td>0</td>\n",
              "      <td>25.800</td>\n",
              "      <td>0</td>\n",
              "      <td>0</td>\n",
              "      <td>3</td>\n",
              "    </tr>\n",
              "    <tr>\n",
              "      <th>1337</th>\n",
              "      <td>61</td>\n",
              "      <td>0</td>\n",
              "      <td>29.070</td>\n",
              "      <td>0</td>\n",
              "      <td>1</td>\n",
              "      <td>1</td>\n",
              "    </tr>\n",
              "  </tbody>\n",
              "</table>\n",
              "<p>1338 rows × 6 columns</p>\n",
              "</div>\n",
              "      <button class=\"colab-df-convert\" onclick=\"convertToInteractive('df-2df2c4fe-e013-4f8b-a1d3-d851bb250914')\"\n",
              "              title=\"Convert this dataframe to an interactive table.\"\n",
              "              style=\"display:none;\">\n",
              "\n",
              "  <svg xmlns=\"http://www.w3.org/2000/svg\" height=\"24px\"viewBox=\"0 0 24 24\"\n",
              "       width=\"24px\">\n",
              "    <path d=\"M0 0h24v24H0V0z\" fill=\"none\"/>\n",
              "    <path d=\"M18.56 5.44l.94 2.06.94-2.06 2.06-.94-2.06-.94-.94-2.06-.94 2.06-2.06.94zm-11 1L8.5 8.5l.94-2.06 2.06-.94-2.06-.94L8.5 2.5l-.94 2.06-2.06.94zm10 10l.94 2.06.94-2.06 2.06-.94-2.06-.94-.94-2.06-.94 2.06-2.06.94z\"/><path d=\"M17.41 7.96l-1.37-1.37c-.4-.4-.92-.59-1.43-.59-.52 0-1.04.2-1.43.59L10.3 9.45l-7.72 7.72c-.78.78-.78 2.05 0 2.83L4 21.41c.39.39.9.59 1.41.59.51 0 1.02-.2 1.41-.59l7.78-7.78 2.81-2.81c.8-.78.8-2.07 0-2.86zM5.41 20L4 18.59l7.72-7.72 1.47 1.35L5.41 20z\"/>\n",
              "  </svg>\n",
              "      </button>\n",
              "\n",
              "\n",
              "\n",
              "    <div id=\"df-423af67b-44d6-4a6c-bb18-3097ee8766d7\">\n",
              "      <button class=\"colab-df-quickchart\" onclick=\"quickchart('df-423af67b-44d6-4a6c-bb18-3097ee8766d7')\"\n",
              "              title=\"Suggest charts.\"\n",
              "              style=\"display:none;\">\n",
              "\n",
              "<svg xmlns=\"http://www.w3.org/2000/svg\" height=\"24px\"viewBox=\"0 0 24 24\"\n",
              "     width=\"24px\">\n",
              "    <g>\n",
              "        <path d=\"M19 3H5c-1.1 0-2 .9-2 2v14c0 1.1.9 2 2 2h14c1.1 0 2-.9 2-2V5c0-1.1-.9-2-2-2zM9 17H7v-7h2v7zm4 0h-2V7h2v10zm4 0h-2v-4h2v4z\"/>\n",
              "    </g>\n",
              "</svg>\n",
              "      </button>\n",
              "    </div>\n",
              "\n",
              "<style>\n",
              "  .colab-df-quickchart {\n",
              "    background-color: #E8F0FE;\n",
              "    border: none;\n",
              "    border-radius: 50%;\n",
              "    cursor: pointer;\n",
              "    display: none;\n",
              "    fill: #1967D2;\n",
              "    height: 32px;\n",
              "    padding: 0 0 0 0;\n",
              "    width: 32px;\n",
              "  }\n",
              "\n",
              "  .colab-df-quickchart:hover {\n",
              "    background-color: #E2EBFA;\n",
              "    box-shadow: 0px 1px 2px rgba(60, 64, 67, 0.3), 0px 1px 3px 1px rgba(60, 64, 67, 0.15);\n",
              "    fill: #174EA6;\n",
              "  }\n",
              "\n",
              "  [theme=dark] .colab-df-quickchart {\n",
              "    background-color: #3B4455;\n",
              "    fill: #D2E3FC;\n",
              "  }\n",
              "\n",
              "  [theme=dark] .colab-df-quickchart:hover {\n",
              "    background-color: #434B5C;\n",
              "    box-shadow: 0px 1px 3px 1px rgba(0, 0, 0, 0.15);\n",
              "    filter: drop-shadow(0px 1px 2px rgba(0, 0, 0, 0.3));\n",
              "    fill: #FFFFFF;\n",
              "  }\n",
              "</style>\n",
              "\n",
              "    <script>\n",
              "      async function quickchart(key) {\n",
              "        const containerElement = document.querySelector('#' + key);\n",
              "        const charts = await google.colab.kernel.invokeFunction(\n",
              "            'suggestCharts', [key], {});\n",
              "      }\n",
              "    </script>\n",
              "\n",
              "      <script>\n",
              "\n",
              "function displayQuickchartButton(domScope) {\n",
              "  let quickchartButtonEl =\n",
              "    domScope.querySelector('#df-423af67b-44d6-4a6c-bb18-3097ee8766d7 button.colab-df-quickchart');\n",
              "  quickchartButtonEl.style.display =\n",
              "    google.colab.kernel.accessAllowed ? 'block' : 'none';\n",
              "}\n",
              "\n",
              "        displayQuickchartButton(document);\n",
              "      </script>\n",
              "      <style>\n",
              "    .colab-df-container {\n",
              "      display:flex;\n",
              "      flex-wrap:wrap;\n",
              "      gap: 12px;\n",
              "    }\n",
              "\n",
              "    .colab-df-convert {\n",
              "      background-color: #E8F0FE;\n",
              "      border: none;\n",
              "      border-radius: 50%;\n",
              "      cursor: pointer;\n",
              "      display: none;\n",
              "      fill: #1967D2;\n",
              "      height: 32px;\n",
              "      padding: 0 0 0 0;\n",
              "      width: 32px;\n",
              "    }\n",
              "\n",
              "    .colab-df-convert:hover {\n",
              "      background-color: #E2EBFA;\n",
              "      box-shadow: 0px 1px 2px rgba(60, 64, 67, 0.3), 0px 1px 3px 1px rgba(60, 64, 67, 0.15);\n",
              "      fill: #174EA6;\n",
              "    }\n",
              "\n",
              "    [theme=dark] .colab-df-convert {\n",
              "      background-color: #3B4455;\n",
              "      fill: #D2E3FC;\n",
              "    }\n",
              "\n",
              "    [theme=dark] .colab-df-convert:hover {\n",
              "      background-color: #434B5C;\n",
              "      box-shadow: 0px 1px 3px 1px rgba(0, 0, 0, 0.15);\n",
              "      filter: drop-shadow(0px 1px 2px rgba(0, 0, 0, 0.3));\n",
              "      fill: #FFFFFF;\n",
              "    }\n",
              "  </style>\n",
              "\n",
              "      <script>\n",
              "        const buttonEl =\n",
              "          document.querySelector('#df-2df2c4fe-e013-4f8b-a1d3-d851bb250914 button.colab-df-convert');\n",
              "        buttonEl.style.display =\n",
              "          google.colab.kernel.accessAllowed ? 'block' : 'none';\n",
              "\n",
              "        async function convertToInteractive(key) {\n",
              "          const element = document.querySelector('#df-2df2c4fe-e013-4f8b-a1d3-d851bb250914');\n",
              "          const dataTable =\n",
              "            await google.colab.kernel.invokeFunction('convertToInteractive',\n",
              "                                                     [key], {});\n",
              "          if (!dataTable) return;\n",
              "\n",
              "          const docLinkHtml = 'Like what you see? Visit the ' +\n",
              "            '<a target=\"_blank\" href=https://colab.research.google.com/notebooks/data_table.ipynb>data table notebook</a>'\n",
              "            + ' to learn more about interactive tables.';\n",
              "          element.innerHTML = '';\n",
              "          dataTable['output_type'] = 'display_data';\n",
              "          await google.colab.output.renderOutput(dataTable, element);\n",
              "          const docLink = document.createElement('div');\n",
              "          docLink.innerHTML = docLinkHtml;\n",
              "          element.appendChild(docLink);\n",
              "        }\n",
              "      </script>\n",
              "    </div>\n",
              "  </div>\n"
            ]
          },
          "metadata": {},
          "execution_count": 34
        }
      ]
    },
    {
      "cell_type": "code",
      "source": [
        "y=df.iloc[:,-1]\n",
        "y"
      ],
      "metadata": {
        "colab": {
          "base_uri": "https://localhost:8080/"
        },
        "id": "an394g7Ycyw2",
        "outputId": "f5712a22-da43-45db-c388-538e1cdb7934"
      },
      "execution_count": null,
      "outputs": [
        {
          "output_type": "execute_result",
          "data": {
            "text/plain": [
              "0       16884.92400\n",
              "1        1725.55230\n",
              "2        4449.46200\n",
              "3       21984.47061\n",
              "4        3866.85520\n",
              "           ...     \n",
              "1333    10600.54830\n",
              "1334     2205.98080\n",
              "1335     1629.83350\n",
              "1336     2007.94500\n",
              "1337    29141.36030\n",
              "Name: charges, Length: 1338, dtype: float64"
            ]
          },
          "metadata": {},
          "execution_count": 35
        }
      ]
    },
    {
      "cell_type": "code",
      "source": [
        "# Splitting the dataset into the Training set and Test set\n",
        "from sklearn.model_selection import train_test_split\n",
        "X_train, X_test, y_train, y_test = train_test_split(x,y, test_size = 0.3, random_state =1)"
      ],
      "metadata": {
        "id": "HarX6KJwdIOd"
      },
      "execution_count": null,
      "outputs": []
    },
    {
      "cell_type": "code",
      "source": [
        "df.dtypes"
      ],
      "metadata": {
        "colab": {
          "base_uri": "https://localhost:8080/"
        },
        "id": "WXfxUpaxddnv",
        "outputId": "3c98f20d-4bd3-4a05-ec0b-89cdfd2731ad"
      },
      "execution_count": null,
      "outputs": [
        {
          "output_type": "execute_result",
          "data": {
            "text/plain": [
              "age           int64\n",
              "sex           int64\n",
              "bmi         float64\n",
              "children      int64\n",
              "smoker        int64\n",
              "region        int64\n",
              "charges     float64\n",
              "dtype: object"
            ]
          },
          "metadata": {},
          "execution_count": 37
        }
      ]
    },
    {
      "cell_type": "code",
      "source": [
        "#MULTIPLE REG MODEL BUILDING\n",
        "from sklearn.linear_model import LinearRegression\n",
        "mlr=LinearRegression()\n",
        "mlr.fit(X_train,y_train)\n",
        "y_pred1=mlr.predict(X_test)\n",
        "y_pred1"
      ],
      "metadata": {
        "colab": {
          "base_uri": "https://localhost:8080/"
        },
        "id": "GTKULJbad6Lt",
        "outputId": "336d238f-8471-479f-fa62-1e007e886a5f"
      },
      "execution_count": null,
      "outputs": [
        {
          "output_type": "execute_result",
          "data": {
            "text/plain": [
              "array([ 4.50048433e+03,  1.28194579e+04,  1.23977127e+04,  1.34303433e+04,\n",
              "        5.31776110e+02,  3.22642696e+04,  1.30762461e+04,  1.22348298e+04,\n",
              "        3.82932402e+03,  3.01565286e+04,  1.13198257e+04,  1.72084618e+04,\n",
              "        8.91832075e+03,  8.22883518e+03,  3.58166904e+03,  1.01918742e+04,\n",
              "        3.97134424e+03,  6.75521017e+03,  1.52141457e+04,  1.42498228e+04,\n",
              "        1.24184207e+04,  3.34497470e+04,  9.12417099e+03,  8.85380484e+03,\n",
              "        3.13406481e+03,  8.14417612e+03,  9.33914668e+03,  1.10793027e+04,\n",
              "        7.54531559e+03,  4.40537383e+03,  1.39112972e+04,  5.64886526e+03,\n",
              "        3.46827850e+04,  2.74022377e+04,  3.38105315e+04,  9.52560370e+03,\n",
              "        3.06087668e+04,  2.67066855e+04,  1.54113111e+04,  3.41398489e+04,\n",
              "        6.63468968e+03,  1.39736793e+04,  1.08971678e+04,  1.47980620e+04,\n",
              "        4.09741953e+03,  1.29622798e+04,  4.71597335e+03,  2.92771692e+04,\n",
              "        7.31791501e+03,  1.39529721e+04,  1.35190763e+04,  1.20798653e+04,\n",
              "        2.00264361e+03,  8.64372471e+03,  2.63767332e+04,  1.04916779e+04,\n",
              "        3.46735735e+04,  1.43468920e+04,  3.23348994e+03,  6.29736567e+03,\n",
              "        6.98470140e+03,  1.47780171e+04,  2.76393453e+04,  3.44489525e+03,\n",
              "        1.56083432e+04,  1.11420819e+04,  1.09545431e+04,  1.07407418e+04,\n",
              "        1.67519076e+03,  2.56544038e+04,  3.75895810e+04,  3.33336941e+04,\n",
              "        2.04616985e+03,  1.12035200e+04,  1.35991275e+04,  3.50861055e+04,\n",
              "        3.27463889e+03,  4.30118673e+03,  1.02364297e+04,  1.03546112e+04,\n",
              "        3.23442584e+01,  1.39306887e+04,  1.03085784e+04,  3.15238012e+03,\n",
              "        3.36380576e+04,  3.36105256e+04,  7.05773057e+03,  3.81603776e+04,\n",
              "        1.26761191e+04,  1.02501825e+04,  3.04850509e+04,  3.40650631e+04,\n",
              "        1.48087422e+04,  1.10825989e+04,  4.11113654e+02,  1.08403252e+04,\n",
              "        9.48537761e+03,  1.51224946e+04,  1.49163628e+04,  6.01879160e+03,\n",
              "        1.36012493e+04,  2.64495142e+04,  2.82131435e+04,  2.76768110e+04,\n",
              "        3.58853823e+04,  2.75494048e+04,  7.16807865e+02,  9.08394845e+03,\n",
              "        5.11953142e+03,  1.23735711e+04,  5.77349317e+03,  5.15551541e+03,\n",
              "        1.22297401e+03,  1.84838688e+04,  3.34637988e+03,  1.70169924e+03,\n",
              "        1.13254257e+04,  1.25688666e+04,  1.15823312e+04,  3.89118812e+03,\n",
              "        8.81845774e+03,  1.35673757e+04,  8.07362214e+03,  6.48417375e+03,\n",
              "        3.70752342e+04,  1.18410472e+04,  1.20147203e+04,  2.97987404e+04,\n",
              "        3.65419368e+04,  1.13672084e+04,  2.88098059e+04, -4.15653363e+02,\n",
              "        8.15842431e+03,  3.21776188e+04,  8.16170197e+03, -5.80902643e+02,\n",
              "        1.34324962e+03,  5.08141852e+03,  7.66027613e+03,  1.25281594e+04,\n",
              "        1.47400300e+04,  8.88786485e+03,  2.94736565e+04,  1.59493721e+04,\n",
              "        1.44644063e+04,  1.10823241e+04,  2.33156688e+03,  9.81905892e+03,\n",
              "        4.17684792e+03,  6.17453686e+03,  1.16380947e+04,  5.49511399e+03,\n",
              "        1.44371194e+04,  1.35368940e+04,  1.29567656e+04,  6.93152402e+03,\n",
              "        1.22170398e+04,  1.07737325e+04,  1.01781613e+04,  4.51445098e+03,\n",
              "        6.04095345e+03,  4.07288508e+04,  1.32533421e+04,  4.22971178e+03,\n",
              "        8.36232425e+03,  5.10409797e+03,  3.27599989e+04,  1.10368233e+04,\n",
              "        1.08378078e+04,  6.92112157e+03,  6.31196543e+03,  6.81049043e+03,\n",
              "        3.32617638e+04,  3.51535872e+04,  2.34868974e+03,  7.62654838e+03,\n",
              "        5.11912530e+03,  1.52484366e+04,  1.59630710e+03,  1.16725331e+04,\n",
              "        1.32930377e+04,  1.14208476e+04,  1.05722190e+04,  1.30853635e+04,\n",
              "        2.52660136e+03,  2.82242325e+04,  2.85209017e+03,  1.49736227e+04,\n",
              "        6.34728446e+03,  1.02594165e+04,  1.47715517e+04,  3.92349293e+04,\n",
              "        2.10047962e+03,  1.64512186e+03,  5.19386628e+03,  7.48803836e+03,\n",
              "        8.10145151e+03,  4.66137638e+03,  1.04572138e+04,  9.25525843e+03,\n",
              "        9.66304965e+03,  1.08919128e+04,  1.00585245e+04,  9.47538672e+03,\n",
              "        8.00979553e+03,  1.42567306e+03,  1.00146505e+04,  7.65475821e+03,\n",
              "        6.63471628e+03,  1.15647343e+04,  5.46833294e+03,  3.34283297e+04,\n",
              "        6.88422300e+03,  6.19170393e+03,  7.73997747e+03,  3.89000503e+04,\n",
              "        1.18217834e+04,  2.88908982e+04,  3.33795268e+03,  3.32276282e+04,\n",
              "        3.78871813e+03,  3.21690003e+04,  1.36901375e+04,  2.62854390e+03,\n",
              "        2.06490326e+03,  1.28494305e+03,  6.22545624e+03,  4.47910388e+03,\n",
              "        2.59006327e+04,  1.59757507e+04,  5.38750778e+03,  1.31665575e+04,\n",
              "        3.93309412e+04,  4.70486131e+03,  1.25236527e+04,  1.11590756e+04,\n",
              "        2.80523844e+04,  2.93690142e+03,  1.32114354e+04,  6.07062830e+03,\n",
              "        1.53887875e+04,  6.22086459e+03,  1.67152132e+04,  4.32862976e+03,\n",
              "        1.24587660e+04,  3.46907032e+04,  1.08669872e+04,  1.04391515e+04,\n",
              "        5.28304759e+03,  1.65991552e+04,  1.43077423e+04,  5.46002427e+03,\n",
              "        1.14216409e+04,  1.26089857e+04,  4.65965009e+03,  7.20971044e+03,\n",
              "        2.79797493e+04,  3.24458490e+04, -2.80471092e+02,  4.03570860e+04,\n",
              "        9.65947810e+03,  7.73481469e+03,  1.09612730e+04,  3.35810815e+04,\n",
              "        3.62123643e+04,  3.70689251e+04,  5.11240991e+03,  6.15779583e+03,\n",
              "        1.05284250e+04,  8.31585383e+03,  4.48690125e+03,  1.14816455e+04,\n",
              "        1.01917501e+04,  9.89265019e+03,  9.47630921e+03,  3.99730528e+04,\n",
              "        8.25654918e+03,  4.74205565e+03,  2.65407871e+04,  2.81756850e+04,\n",
              "        1.35353301e+03,  1.19658133e+04,  6.17771436e+03,  4.11182748e+03,\n",
              "        1.05101044e+04,  1.14204713e+04,  1.52112466e+04,  1.14688853e+04,\n",
              "        4.00221695e+03,  7.58593194e+03,  1.16301521e+04,  1.27710403e+04,\n",
              "        1.70956860e+04,  1.09689110e+04,  5.89828194e+03,  3.21414593e+04,\n",
              "        1.00577687e+04,  6.40680559e+03,  2.79432251e+03,  7.55954806e+03,\n",
              "        7.02648877e+03,  6.98769775e+03,  6.23852120e+03,  8.98952800e+03,\n",
              "        6.92364060e+03,  3.11259948e+04,  6.00124889e+03,  4.58050890e+03,\n",
              "        2.22382073e+03,  4.38926402e+03,  8.54010147e+03,  2.91843571e+03,\n",
              "        2.75617659e+04,  6.97732781e+03,  6.62333355e+03,  1.48844331e+04,\n",
              "        9.99600602e+03,  1.14120420e+04,  1.40588565e+04,  1.53041139e+04,\n",
              "        1.47928083e+04,  2.35408921e+04,  5.45606625e+03,  9.76618110e+03,\n",
              "        1.04545622e+04,  9.86591335e+03,  1.31258079e+04,  6.83776139e+03,\n",
              "        3.67185407e+03,  3.31306888e+04,  1.42933572e+04,  1.44793083e+04,\n",
              "        1.19478658e+04,  3.47061905e+03,  9.99156113e+03,  3.33436375e+03,\n",
              "        2.92911590e+03,  1.12265014e+04,  1.57392885e+04,  1.32793127e+04,\n",
              "        3.54955845e+04,  3.69917151e+03,  3.41948541e+04,  2.58713131e+03,\n",
              "        9.05071942e+03,  2.97458804e+04,  5.69437306e+03,  2.03601759e+03,\n",
              "        7.35846518e+03,  1.37191495e+04,  6.12611593e+02,  6.32136842e+03,\n",
              "        9.18785700e+03,  3.79364473e+04,  2.58894283e+04,  9.72820070e+03,\n",
              "        1.19307132e+04,  3.77736622e+04,  1.49937951e+04,  3.48762300e+03,\n",
              "        5.61617566e+03,  9.14025193e+03,  1.65803357e+04,  9.96873302e+03,\n",
              "        7.69921929e+03,  1.03947201e+04,  3.08040867e+04,  3.18046316e+04,\n",
              "        6.75850484e+03,  3.20223602e+04,  3.42800259e+04,  1.46353372e+04,\n",
              "        9.10268740e+03,  1.03310077e+04,  5.46633327e+03,  1.20971614e+04,\n",
              "        1.47335647e+04,  4.23288914e+03,  1.32568189e+04,  1.29992112e+04,\n",
              "        1.03298417e+04,  2.80075354e+04,  2.70820274e+04,  3.31135583e+04,\n",
              "        1.25252514e+04,  1.48915770e+04,  1.69449512e+04,  4.29630585e+03,\n",
              "        9.70262985e+03,  9.19416992e+03,  3.21648201e+04,  3.89685068e+04,\n",
              "        1.12870257e+04,  3.58122304e+04,  2.77084624e+04,  3.23002452e+04,\n",
              "        9.08157589e+03,  1.61147738e+04,  3.69098919e+03,  3.21740900e+03,\n",
              "        2.73105622e+04,  9.39253798e+03])"
            ]
          },
          "metadata": {},
          "execution_count": 38
        }
      ]
    },
    {
      "cell_type": "code",
      "source": [
        "#MULTIPLE REG PERFORMANCE_MEASURE\n",
        "import numpy as np\n",
        "from sklearn.metrics import mean_absolute_error,mean_squared_error,r2_score\n",
        "print(\"mean absolute error\",mean_absolute_error(y_test,y_pred1))\n",
        "print(\"mean squred error\",mean_squared_error(y_test,y_pred1))\n",
        "print(\"root mean squred error\",np.sqrt(mean_squared_error(y_test,y_pred1)))\n",
        "print(\"r2_score\",r2_score(y_test,y_pred1))"
      ],
      "metadata": {
        "colab": {
          "base_uri": "https://localhost:8080/"
        },
        "id": "YMBAeP1aeDts",
        "outputId": "88cdb968-da3b-49d3-e01b-761dd0882f74"
      },
      "execution_count": null,
      "outputs": [
        {
          "output_type": "stream",
          "name": "stdout",
          "text": [
            "mean absolute error 4139.313074268247\n",
            "mean squred error 36794223.34351702\n",
            "root mean squred error 6065.824209744049\n",
            "r2_score 0.7403677168975318\n"
          ]
        }
      ]
    },
    {
      "cell_type": "markdown",
      "source": [
        "**Random Forest**"
      ],
      "metadata": {
        "id": "2z3m16PncsAr"
      }
    },
    {
      "cell_type": "code",
      "source": [
        "rs=RandomForestRegressor()\n",
        "rs.fit(X_train,y_train)\n",
        "y_pred2=rs.predict(X_test)\n",
        "y_pred2"
      ],
      "metadata": {
        "colab": {
          "base_uri": "https://localhost:8080/"
        },
        "id": "nDJeSep9cwvO",
        "outputId": "7fac379c-2f01-4c6e-fc69-2fd7242155f8"
      },
      "execution_count": null,
      "outputs": [
        {
          "output_type": "execute_result",
          "data": {
            "text/plain": [
              "array([ 2000.3619673 , 12733.9634582 ,  9054.7446371 , 10719.6087199 ,\n",
              "        2538.1590268 , 38916.1101199 , 10133.6235926 , 11639.1045025 ,\n",
              "        5040.2857017 , 20046.6674229 , 15847.9520455 , 12856.3712601 ,\n",
              "        6855.9895695 ,  6887.5471365 ,  1894.8869665 , 11542.1487592 ,\n",
              "        6122.7887758 ,  6891.9702763 , 16261.6244636 , 13518.073689  ,\n",
              "        9987.0250977 , 39801.8037443 , 10329.2736881 ,  9403.3631584 ,\n",
              "       15572.05971883,  6671.3434935 ,  8901.878641  ,  9158.5325907 ,\n",
              "        7502.0639503 ,  3838.0605215 , 12668.6761535 ,  6792.098257  ,\n",
              "       25934.2660169 , 34841.2405512 , 25339.1812747 , 14673.4882968 ,\n",
              "       39368.4992937 , 17640.6964564 , 14605.6767057 , 44322.2769808 ,\n",
              "        7477.5382788 , 11832.189191  , 11395.3352505 , 19870.7033009 ,\n",
              "        7700.7890799 , 13233.8868139 ,  1885.7918125 , 34880.2593483 ,\n",
              "        9629.0895834 , 18432.9410803 , 15416.7802861 , 15152.7413304 ,\n",
              "        7312.5390009 , 11992.1456442 , 18165.8967856 ,  6430.7354577 ,\n",
              "       41014.938961  , 13834.4791818 , 12515.4687373 ,  1734.5850816 ,\n",
              "        3996.1836667 , 13369.9518143 , 23434.8730065 ,  5545.4882637 ,\n",
              "       15038.0330839 ,  9248.7036298 , 10990.9971812 , 12589.550315  ,\n",
              "        4230.6020549 , 15653.6166105 , 44179.1031855 , 39655.9899708 ,\n",
              "        2216.60142949, 14672.1414682 , 13721.6511652 , 41743.8149317 ,\n",
              "        4439.0957261 ,  3356.4397936 , 12888.6938074 , 14590.6297463 ,\n",
              "        4646.7583982 , 13246.3532248 , 17600.0534319 ,  5118.2752541 ,\n",
              "       39315.6488955 , 40477.0415974 ,  6941.843889  , 46538.5101052 ,\n",
              "       12272.9855178 ,  7422.5602755 , 20074.2877595 , 24441.985167  ,\n",
              "       18234.4401021 ,  9721.9315079 ,  1672.7362855 , 18332.0913153 ,\n",
              "       11983.0655241 , 17158.87841   , 12946.7897513 , 12870.9903898 ,\n",
              "       11731.5942099 , 18208.0882282 , 20016.256376  , 36404.9933612 ,\n",
              "       27803.6586662 , 22426.0897583 ,  1949.634654  ,  8880.0002294 ,\n",
              "        2607.4318575 , 15282.4633706 ,  4702.5380628 ,  5304.4569256 ,\n",
              "        1832.988365  , 17570.444074  ,  3271.6541828 ,  1965.9276116 ,\n",
              "        6770.7439104 , 18770.7957196 , 12520.4531534 ,  2123.289966  ,\n",
              "       11075.5223525 , 14341.6520657 ,  5963.3208645 ,  9631.1789805 ,\n",
              "       43298.3965665 , 10836.6430334 , 16662.6985366 , 20003.0055951 ,\n",
              "       43802.1792698 ,  7884.8824532 , 37264.969812  ,  1932.6914844 ,\n",
              "        7157.0992256 , 45758.4295578 , 10609.4912186 ,  1717.7727695 ,\n",
              "        1819.2113415 ,  9132.610761  , 12049.2835241 , 10942.6633899 ,\n",
              "       14033.9435249 ,  6072.287789  , 19828.0606318 , 14344.2804115 ,\n",
              "       14644.4933243 , 12889.618866  ,  2189.65161356,  7539.406225  ,\n",
              "        1798.723157  ,  6955.3594259 ,  7611.3271612 ,  8077.4813387 ,\n",
              "       16308.2387395 , 12240.1558538 ,  8801.9739692 ,  6058.6013275 ,\n",
              "       12344.6653667 , 11054.151857  , 10515.7709737 ,  3564.6559319 ,\n",
              "        4926.4234451 , 47347.392708  , 12382.3902814 ,  4047.594379  ,\n",
              "        7062.1070547 ,  1643.543046  , 41064.3394508 , 14185.7288377 ,\n",
              "       13309.1514778 ,  5561.8118727 ,  6858.1562414 ,  8697.7182158 ,\n",
              "       27965.5533981 , 26820.4425475 ,  4202.9123008 ,  6841.5550897 ,\n",
              "        3229.1922172 , 14985.6218924 ,  9374.5886127 ,  6286.6076637 ,\n",
              "       13278.825322  , 14091.3912158 ,  9007.9878061 , 20061.6322472 ,\n",
              "        5138.2630619 , 18973.4905487 ,  3641.7938843 ,  9665.5455162 ,\n",
              "        8137.4646203 , 10371.9339509 , 17911.5034877 , 46367.9623077 ,\n",
              "        4850.026459  ,  4223.7781169 ,  7009.3962991 ,  9746.2435436 ,\n",
              "        6507.7583353 ,  2678.716097  , 20367.7770005 ,  8981.442515  ,\n",
              "        6596.847651  ,  7417.1402038 , 13697.0711992 ,  6866.893183  ,\n",
              "        6692.2808675 ,  2222.19572919,  6923.9427941 ,  7059.8323426 ,\n",
              "        5863.4698462 , 12244.1787566 ,  4259.9822141 , 24649.7623094 ,\n",
              "        6483.6250369 ,  5727.8211525 ,  4983.1127146 , 47139.9985219 ,\n",
              "       13452.0861434 , 35047.324951  ,  2380.3819425 , 52341.5297163 ,\n",
              "        4437.85821337, 26506.9209893 , 14400.0476511 ,  8344.6438904 ,\n",
              "        2491.0660139 ,  8673.4322932 ,  5034.15159709,  8374.5615428 ,\n",
              "       19125.5795798 , 14008.9290976 , 18452.4301001 , 14925.4334029 ,\n",
              "       46182.8352932 , 12581.8148451 , 14787.3214935 , 16551.3727716 ,\n",
              "       17955.4806422 ,  2430.3793097 ,  9555.9472866 ,  4502.9970825 ,\n",
              "        8651.5381583 ,  1908.375763  , 15534.3514347 ,  2297.9528011 ,\n",
              "       11290.4685052 , 25514.2136928 ,  8038.7697595 ,  9992.2422931 ,\n",
              "        3244.6347466 , 14636.4341688 , 13368.6775261 ,  4424.158188  ,\n",
              "       20186.4090586 , 11134.4201367 ,  4321.6563122 ,  3983.3512795 ,\n",
              "       36013.4670099 , 22556.6633218 ,  1591.031324  , 46906.8108305 ,\n",
              "        8074.1335445 ,  6885.5478935 ,  9583.5380031 , 41410.4504804 ,\n",
              "       45958.6558622 , 45074.3793673 ,  2329.703831  ,  6418.2964949 ,\n",
              "       15495.7002289 , 14098.9747671 ,  1251.344371  , 14935.3420911 ,\n",
              "        8228.241235  ,  8181.4022282 ,  7080.556995  , 47082.6194075 ,\n",
              "        7891.1664469 ,  9230.1526842 , 19149.3700981 , 19338.4000025 ,\n",
              "        3542.2972992 ,  9283.2187038 ,  7368.655212  ,  3594.7982035 ,\n",
              "        9406.6499813 , 11203.6381181 , 14960.8522514 ,  9445.5986133 ,\n",
              "        6862.77558   ,  6298.8153364 , 14006.4819138 , 15338.6748436 ,\n",
              "       14285.1423793 , 14683.9788655 ,  4449.7575433 , 30131.1385441 ,\n",
              "        7904.7860531 ,  7447.1519545 ,  7521.046182  ,  7602.5680209 ,\n",
              "        6054.958956  ,  8877.5685935 ,  8429.6293941 ,  6636.5130885 ,\n",
              "        6854.8216682 , 20835.4259061 ,  5120.44705   ,  7488.5403737 ,\n",
              "        5008.5150321 ,  7893.5146715 ,  5050.0350964 ,  2904.55625064,\n",
              "       18676.5891921 ,  3701.8371712 ,  5069.346286  , 14678.2120456 ,\n",
              "       14812.5109981 ,  9848.9049036 , 13852.5995643 , 12200.4954204 ,\n",
              "       10598.6567289 , 18165.4029028 ,  5038.5024491 ,  8289.4043451 ,\n",
              "       11833.1382735 ,  4524.1615619 , 14622.0890155 ,  7336.2277992 ,\n",
              "        9352.6709027 , 29119.6573503 , 12666.8849055 , 13880.1774712 ,\n",
              "       10918.9831145 ,  3367.15542513,  9022.6960063 ,  3417.5283102 ,\n",
              "        8920.2807989 ,  6132.754969  , 19061.8056286 , 15913.3145917 ,\n",
              "       43097.5255295 ,  2141.5148755 , 41497.5497445 ,  5075.3844788 ,\n",
              "        7387.102651  , 36446.5877002 ,  4772.8830695 ,  4529.5492702 ,\n",
              "        4633.4197913 , 17129.3264953 ,  7428.4347025 ,  3434.1429711 ,\n",
              "       14040.7271451 , 50546.0048666 , 16555.67849   , 10924.1414021 ,\n",
              "       13998.6156057 , 29190.857861  , 10410.7268912 ,  4552.4604474 ,\n",
              "       11204.8404643 , 11229.6693317 , 12678.2723675 ,  9264.9760112 ,\n",
              "        6520.5379096 ,  7893.4530282 , 37906.5965866 , 24159.5579614 ,\n",
              "        7256.6561645 , 26258.518509  , 27629.1514312 , 13399.7369393 ,\n",
              "        6417.5568828 ,  9805.7499952 ,  7662.2596068 , 10421.0051389 ,\n",
              "       16283.7372658 ,  4926.18168425,  9582.0767301 , 11904.8741124 ,\n",
              "        7446.3269292 , 19675.1096761 , 18685.2847179 , 25543.9521833 ,\n",
              "       10014.5572479 , 14925.3293984 , 13435.973352  ,  4704.8089319 ,\n",
              "        6972.9197771 , 12775.4988985 , 38874.9043352 , 45620.2716949 ,\n",
              "        8933.7598128 , 42920.2039376 , 36404.9933612 , 21979.5836944 ,\n",
              "       13234.0157418 , 16536.5981104 ,  4943.8274676 ,  3215.46126628,\n",
              "       17585.8304381 , 11103.6327192 ])"
            ]
          },
          "metadata": {},
          "execution_count": 40
        }
      ]
    },
    {
      "cell_type": "code",
      "source": [
        "print(\"mean absolute error:\",mean_absolute_error(y_test,y_pred2))\n",
        "print(\"mean squared error:\",mean_squared_error(y_test,y_pred2))\n",
        "print(\"root mean squared error:\",np.sqrt(mean_squared_error(y_test,y_pred2)))\n",
        "print(\"R2 score:\",r2_score(y_test,y_pred2))"
      ],
      "metadata": {
        "colab": {
          "base_uri": "https://localhost:8080/"
        },
        "id": "ejeH6MegeeXz",
        "outputId": "96f3c8a9-bcd3-4b97-8650-eb9360091588"
      },
      "execution_count": null,
      "outputs": [
        {
          "output_type": "stream",
          "name": "stdout",
          "text": [
            "mean absolute error: 2734.7211683050496\n",
            "mean squared error: 23644433.215599913\n",
            "root mean squared error: 4862.554186392159\n",
            "R2 score: 0.8331570116016138\n"
          ]
        }
      ]
    },
    {
      "cell_type": "markdown",
      "source": [
        "**Gradient Boosting Regressor**"
      ],
      "metadata": {
        "id": "LnZtmFGbfCAi"
      }
    },
    {
      "cell_type": "code",
      "source": [
        "gb=GradientBoostingRegressor()\n",
        "gb.fit(X_train,y_train)\n",
        "y_pred3=gb.predict(X_test)\n",
        "y_pred3"
      ],
      "metadata": {
        "colab": {
          "base_uri": "https://localhost:8080/"
        },
        "id": "9GrS7Pq6fQ3K",
        "outputId": "ee9c8165-0cec-4708-e0f5-22c369d40be2"
      },
      "execution_count": null,
      "outputs": [
        {
          "output_type": "execute_result",
          "data": {
            "text/plain": [
              "array([ 3483.03980319, 12245.83600646,  9943.80551795, 10665.51379362,\n",
              "        2263.70388354, 37314.7183681 , 10432.0992109 , 11863.80959476,\n",
              "        4599.58937382, 21201.93882047, 15759.03033029, 13542.08483509,\n",
              "        7430.05525426,  7401.03674269,  2638.4697055 , 10407.76432425,\n",
              "        5522.49919478,  7243.71520143, 14860.91329778, 14570.94902971,\n",
              "       12854.78012102, 38938.19906153,  9613.82533367, 10102.50556798,\n",
              "        4309.48060428,  7441.0401378 ,  8791.39000367,  9711.92538665,\n",
              "        6786.06520626,  5676.28678434, 13455.77035255,  6417.88756758,\n",
              "       24591.24653859, 34291.37074623, 24352.07206308, 12661.81958481,\n",
              "       37905.65411889, 17384.79228764, 13553.07047973, 42826.95646434,\n",
              "        6533.14089481, 12291.83590303, 12103.65951476, 14958.16736813,\n",
              "        6594.67686417, 14170.26836552,  3091.80829452, 34944.99991842,\n",
              "        9857.80518801, 18416.42335117, 14686.80393127, 15500.15902666,\n",
              "        4110.76668901,  9770.70868437, 17803.58305652,  4379.13225278,\n",
              "       40424.50475841, 14747.53828189,  7293.35207615,  2080.82332309,\n",
              "        4732.66283664, 14628.01861426, 20494.86422068,  5179.357355  ,\n",
              "       14629.00377282, 10114.26595022, 10652.36097122, 12617.99735311,\n",
              "        4599.57405288, 15959.72979247, 44548.98899244, 43471.57146948,\n",
              "        2909.20831757, 15361.24067328, 14506.82953025, 41681.56168588,\n",
              "        5687.69799514,  4872.88954529, 12512.81478083, 12538.87121056,\n",
              "        3373.7658142 , 15141.66832704, 13756.40139287,  3582.89031511,\n",
              "       38784.17608498, 38919.22536297,  7914.50719298, 45424.14729518,\n",
              "       11378.00122356,  8623.49327446, 22191.2585937 , 24534.18533009,\n",
              "       17769.15383135, 10203.51793802,  2936.77395694, 12810.96906787,\n",
              "       10709.61968641, 14522.57525908, 13240.95006491,  8282.66698108,\n",
              "       12291.83590303, 17247.37161131, 18152.81286347, 35207.81095684,\n",
              "       28398.41835941, 19752.51705774,  3061.32711376,  9430.31351694,\n",
              "        3449.74726964, 13417.01637519,  5736.53446099,  5887.30976568,\n",
              "        3070.2943954 , 18291.54474752,  4670.42721008,  2465.53144885,\n",
              "        6434.59971608, 15183.36095391,  8094.70890765,  4177.66702898,\n",
              "       10488.47652405, 11399.69247805,  6416.39216301,  8546.79376613,\n",
              "       43386.72708481, 10271.46799307, 16709.34536938, 19914.12467739,\n",
              "       41385.52322723,  8265.92564296, 37854.89435419,  1642.15647629,\n",
              "        8665.6119128 , 40470.96731   ,  8916.02945334,  1500.81097035,\n",
              "        2947.52215102,  3442.93231946, 12303.61952781, 10845.20674109,\n",
              "       14510.25417595,  6726.79768979, 20442.77131391, 14571.93418828,\n",
              "       14318.60459244, 13148.40470815,  3248.4565856 ,  7950.83669487,\n",
              "        3163.26810136,  8600.7346557 ,  8463.51602185,  5618.46843396,\n",
              "       14965.80675539, 13449.89778442,  9063.48346578,  6520.86221048,\n",
              "       10458.21526351, 10327.98270523, 10734.97738721,  3408.14608705,\n",
              "        5206.47908203, 47499.66845355, 12392.54324004,  3758.71706978,\n",
              "        7905.65554661,  2347.47335197, 40177.57212013, 13192.88311761,\n",
              "       12335.80094551,  6341.94381278,  6702.02642475,  5715.08884235,\n",
              "       22955.76543208, 26960.94847888,  4457.01149768,  8169.44148884,\n",
              "        3932.9444829 , 16401.86846208,  4791.71940241,  6190.41354259,\n",
              "       15914.32653326, 14641.21761223,  9908.84899283, 16162.68698622,\n",
              "        5513.34754324, 19620.83515409,  3123.0328677 ,  9339.4708823 ,\n",
              "        7978.44247039, 10059.38837499, 17049.73460675, 46885.29729822,\n",
              "        3405.90079764,  4599.57405288,  6864.29279477,  9004.35940664,\n",
              "        7127.78570838,  3863.16173467, 11874.35293103,  9608.24179655,\n",
              "        7289.06224664,  7692.13405618, 15206.90544027,  7367.16165093,\n",
              "        7763.32289936,  2665.62666664,  7762.42199058,  7598.32101423,\n",
              "        4006.02672754, 12009.12124776,  5948.22453281, 25375.17917616,\n",
              "        6208.0034862 ,  5495.54042697,  6120.05658473, 46010.91166696,\n",
              "       13068.94917326, 35844.98461885,  2686.55824155, 38858.9849814 ,\n",
              "        7611.92485767, 22883.26375506, 15095.66843046, 15624.97471466,\n",
              "        3481.41929771,  3301.00987256,  6015.68827066,  3973.2588769 ,\n",
              "       18204.45866477, 14571.93418828,  7289.33611112, 16311.1299696 ,\n",
              "       46860.44697551,  6900.78608443, 14840.45083798, 13388.26318364,\n",
              "       18101.64015014,  3135.9843258 ,  9957.99283577,  5412.67978342,\n",
              "        8597.03126031,  2570.77768616, 15639.59248872,  3715.97056455,\n",
              "       12968.38945091, 24571.81474104,  8425.15594498,  9904.94447489,\n",
              "        4930.14939943, 15006.73447099, 13646.29029347,  5717.79511833,\n",
              "       15389.19599036, 11585.57251363,  4086.87512326,  4243.11615944,\n",
              "       35009.28782858, 21985.64114183,  1927.11489689, 47121.63300847,\n",
              "        8640.89878923,  7213.56449661,  9585.76331762, 40075.17088426,\n",
              "       44834.91418078, 44696.67863952,  3863.16173467,  5975.37451729,\n",
              "       13363.27438657, 10532.60238348,  2418.93315881, 15319.62473498,\n",
              "        9276.59723991,  9009.06082107,  8373.62604463, 47053.335139  ,\n",
              "        8127.01222592,  6169.00142261, 18231.62642401, 19024.05176994,\n",
              "        3173.8028761 ,  9750.42508462,  7485.51392195,  4084.9725677 ,\n",
              "        9196.18468809, 11652.27752965, 15765.45620588,  9830.42365074,\n",
              "        4229.85283527,  6775.04583985, 12714.71930497, 15176.21456663,\n",
              "       13644.31030724, 12810.96906787,  5092.92338198, 24190.02285484,\n",
              "        7227.28549854,  8515.72646673,  5309.93930883,  8494.25837289,\n",
              "        6446.01760516,  7563.27516265,  5462.4229659 ,  7477.24287169,\n",
              "        7712.77529822, 21773.60426773,  6087.63127619,  6345.99015237,\n",
              "        2896.6897982 ,  6724.84183542,  6422.48163986,  3896.76951581,\n",
              "       18881.59367096,  3636.58669204,  5586.08912871, 14467.10947783,\n",
              "       14364.9081946 , 10136.45360831, 14615.03938954, 14174.54805816,\n",
              "       10569.4557015 , 15373.60636702,  5280.4867465 ,  7955.7756212 ,\n",
              "       12240.90849661,  4303.43010424, 16322.07806225, 13629.01769466,\n",
              "        6713.85453692, 25848.65025075, 12727.34433997, 13767.23194961,\n",
              "       12435.88084212,  3330.50395598, 10457.53248978,  4810.17720119,\n",
              "        6171.86030532,  6410.50402526, 16577.37699801, 14423.46940748,\n",
              "       43841.7176489 ,  4177.66702898, 40557.82777666,  4343.25139322,\n",
              "        7878.79664215, 35563.457856  ,  6017.39140562,  4330.62450501,\n",
              "        5163.15176269, 13253.36336599,  7014.64556626,  4243.11615944,\n",
              "       11969.48310554, 49369.60052961, 18387.29488269,  8235.67253745,\n",
              "       12497.150866  , 28644.37591405, 10185.78101095,  5043.45088219,\n",
              "        6438.71921603, 11286.60305168, 10390.21110344,  9618.88387961,\n",
              "        5884.77413503,  9012.39840845, 37418.89326992, 25308.46218458,\n",
              "        7456.45102245, 23879.42865964, 25437.58637243, 13765.50035126,\n",
              "        6812.35238684, 10757.79793674,  5662.02172293, 10973.47271572,\n",
              "       16441.89932662,  4196.95784206,  6199.8080089 , 12263.65335715,\n",
              "        8400.82269769, 20706.25201256, 19677.58683152, 24225.62740763,\n",
              "       10112.17731074, 15161.01881109, 13819.36167014,  5468.23828767,\n",
              "        5275.02314912, 11549.4512405 , 39127.12444797, 45361.06238461,\n",
              "        9608.7892443 , 43841.7176489 , 35810.35328072, 23304.9077231 ,\n",
              "       10561.62036059, 13482.94879604,  2907.44987102,  3845.64063154,\n",
              "       17959.46638167, 10462.26051585])"
            ]
          },
          "metadata": {},
          "execution_count": 42
        }
      ]
    },
    {
      "cell_type": "code",
      "source": [
        "print(\"mean absolute error:\",mean_absolute_error(y_test,y_pred3))\n",
        "print(\"mean squared error:\",mean_squared_error(y_test,y_pred3))\n",
        "print(\"root mean squared error:\",np.sqrt(mean_squared_error(y_test,y_pred3)))\n",
        "print(\"R2 score:\",r2_score(y_test,y_pred3))"
      ],
      "metadata": {
        "colab": {
          "base_uri": "https://localhost:8080/"
        },
        "id": "V2hVjYYcfYv0",
        "outputId": "99e1663c-7e47-43d9-93ef-9d5ecc145662"
      },
      "execution_count": null,
      "outputs": [
        {
          "output_type": "stream",
          "name": "stdout",
          "text": [
            "mean absolute error: 2443.6691438134408\n",
            "mean squared error: 19259424.289868288\n",
            "root mean squared error: 4388.556059784162\n",
            "R2 score: 0.8640990936829034\n"
          ]
        }
      ]
    },
    {
      "cell_type": "markdown",
      "source": [
        "**XGB Regressor**"
      ],
      "metadata": {
        "id": "FoNmBWPnfgU2"
      }
    },
    {
      "cell_type": "code",
      "source": [
        "xgb=XGBRegressor()\n",
        "xgb.fit(X_train,y_train)\n",
        "y_pred4=xgb.predict(X_test)\n",
        "y_pred4"
      ],
      "metadata": {
        "colab": {
          "base_uri": "https://localhost:8080/"
        },
        "id": "kwVKdDsJfdyL",
        "outputId": "d321e679-639e-4653-8161-e5f34f0dcf54"
      },
      "execution_count": null,
      "outputs": [
        {
          "output_type": "execute_result",
          "data": {
            "text/plain": [
              "array([ 3981.944  , 11791.008  , 10135.849  ,  9559.768  ,  1742.1016 ,\n",
              "       36353.02   , 11359.841  , 11261.298  ,  2869.099  , 20552.98   ,\n",
              "       14893.354  , 11667.651  ,  6076.426  ,  6738.2573 ,  1242.1586 ,\n",
              "        8217.434  ,  5340.981  ,  5963.9023 , 14849.948  , 13619.587  ,\n",
              "        7391.376  , 41583.137  ,  8184.8047 ,  9909.084  , 20114.793  ,\n",
              "        6350.328  ,  6680.7134 ,  8426.522  ,  6539.949  ,  1461.9119 ,\n",
              "       11135.29   ,  4330.5034 , 22538.092  , 34071.84   , 25781.164  ,\n",
              "       14921.363  , 37377.043  , 16864.041  , 14850.298  , 50199.527  ,\n",
              "        6202.335  , 11810.851  , 11710.991  , 18872.709  ,  5774.836  ,\n",
              "       13069.627  ,  1628.0925 , 33641.12   ,  9704.71   , 15760.326  ,\n",
              "       14118.277  , 12646.3545 ,  3560.3926 , 10439.416  , 21947.924  ,\n",
              "        4202.2314 , 41839.285  , 14183.631  , 11765.911  ,   479.82028,\n",
              "        2264.9912 , 13795.297  , 26784.152  ,  6917.788  , 14810.4    ,\n",
              "        8841.898  , 10897.383  , 12783.782  ,  6289.4995 , 22459.742  ,\n",
              "       42450.914  , 42924.973  ,  1703.7241 , 16625.818  , 20013.996  ,\n",
              "       40869.656  ,  9132.318  ,  4753.545  , 11591.907  , 17945.002  ,\n",
              "        3702.45   , 14791.183  , 21199.154  ,  5080.588  , 38760.367  ,\n",
              "       40352.855  ,  6135.3433 , 45510.043  , 13836.72   ,  9086.506  ,\n",
              "       20455.357  , 23391.275  , 17702.68   ,  9395.024  ,   446.57806,\n",
              "       15863.276  , 13123.246  , 18133.705  , 12615.326  , 15828.544  ,\n",
              "       11784.216  , 16846.469  , 21962.186  , 35473.742  , 27268.893  ,\n",
              "       27042.092  ,  2291.7944 , 16562.742  ,   729.5243 , 17370.496  ,\n",
              "        4153.9985 ,  5287.396  ,   787.2976 , 23412.652  ,   367.81372,\n",
              "        1446.7621 ,  6794.332  , 20738.074  , 12030.818  ,   939.02405,\n",
              "       10788.741  , 12342.626  ,  6487.3887 ,  8257.354  , 41024.016  ,\n",
              "        9514.87   , 20299.941  , 19184.268  , 43015.29   ,  7225.786  ,\n",
              "       35119.293  ,  -573.35596,  7915.499  , 43765.59   , 10045.153  ,\n",
              "         902.69464,   392.5038 , 13066.257  , 14063.565  , 12449.307  ,\n",
              "       13436.251  ,  5633.903  , 19731.668  , 13994.907  , 14997.234  ,\n",
              "       11869.77   ,  2132.7349 ,  6593.5713 ,  1894.8414 ,  8667.6045 ,\n",
              "        7741.788  ,  7599.325  , 18139.137  , 14153.417  ,  9990.615  ,\n",
              "        6571.777  ,  9957.046  , 11840.918  ,  9609.3545 ,  1956.8883 ,\n",
              "        3654.6892 , 47085.31   , 11741.17   ,  2632.6448 ,  5305.107  ,\n",
              "        1521.7383 , 41622.984  , 15388.725  , 12723.592  ,  5834.1113 ,\n",
              "       11237.905  ,  5506.8247 , 21230.932  , 25568.19   ,  2721.6062 ,\n",
              "        7433.1333 ,  2653.5889 , 18718.03   ,  6072.8755 ,  4867.977  ,\n",
              "       17291.184  , 14123.436  ,  8444.021  , 26654.795  ,  4163.2207 ,\n",
              "       19189.305  ,  4588.053  , 10319.071  ,  7835.512  , 11684.325  ,\n",
              "       19168.367  , 48814.047  ,  4025.4749 ,  6669.946  ,  6962.6733 ,\n",
              "        8355.706  ,  8865.814  ,  4039.8682 , 18126.613  ,  8121.692  ,\n",
              "        6218.2686 ,  7085.989  , 11457.084  ,  6514.482  ,  6149.392  ,\n",
              "        1806.8805 ,  6823.988  ,  8657.734  ,  4443.945  , 11809.95   ,\n",
              "        3090.3857 , 24006.25   ,  7629.249  ,  3603.4648 ,  5565.512  ,\n",
              "       48271.254  , 14340.15   , 39650.28   ,  1804.5183 , 46910.83   ,\n",
              "        7437.2856 , 19098.336  , 14160.513  , 11299.659  ,  2545.0154 ,\n",
              "       10701.702  ,  9978.759  ,  3052.9148 , 17008.988  , 12875.863  ,\n",
              "       15654.946  , 13410.331  , 48636.54   , 12994.689  , 14479.842  ,\n",
              "       16683.285  , 16761.986  ,  2052.3826 ,  9795.308  ,  4573.332  ,\n",
              "        8806.306  ,  1509.7654 , 13582.8125 ,  1846.7611 , 11801.7    ,\n",
              "       22529.896  ,  8213.479  ,  9600.287  ,  3435.351  , 13719.489  ,\n",
              "       13029.458  ,  6950.823  , 23517.646  , 13501.35   ,  2954.7903 ,\n",
              "        4213.495  , 34172.145  , 20820.1    ,   829.1686 , 45901.24   ,\n",
              "        8161.452  ,  6648.1167 ,  8323.831  , 42205.453  , 47076.22   ,\n",
              "       43770.117  ,  2764.6392 ,  5017.349  , 18013.475  , 10009.765  ,\n",
              "         732.66504, 13205.8955 , 11482.947  ,  7833.9067 ,  6403.5513 ,\n",
              "       46557.098  ,  9479.479  , 11999.317  , 17046.23   , 19619.29   ,\n",
              "       10044.311  ,  8622.039  ,  4919.1934 ,  6931.404  ,  9057.076  ,\n",
              "       11891.661  , 15531.863  , 11661.293  ,  4760.2026 ,  6348.4365 ,\n",
              "       13267.565  , 13736.8955 , 13437.579  , 14466.679  ,  1472.6844 ,\n",
              "       26605.834  ,  8167.4585 ,  6507.5225 ,  8274.604  , 11372.751  ,\n",
              "        5663.435  ,  6670.493  ,  6417.0527 ,  6993.5737 ,  7056.228  ,\n",
              "       20882.857  ,  3913.285  ,  4942.012  ,  8862.051  ,  5775.4507 ,\n",
              "        3885.244  ,  4619.3193 , 17890.639  ,  2198.6594 ,  7581.501  ,\n",
              "       14109.354  , 13766.603  ,  8153.2905 , 13867.13   , 13504.153  ,\n",
              "       10358.381  , 15011.818  ,  5168.685  ,  8047.612  , 11773.286  ,\n",
              "        3616.4158 , 13764.091  ,  6987.8735 ,  7432.7183 , 23824.057  ,\n",
              "       14151.044  , 13885.3955 ,  8495.139  ,  3332.4685 , 11073.663  ,\n",
              "        2936.9106 ,  9062.634  ,  6762.6177 , 28700.21   , 12902.413  ,\n",
              "       43382.566  ,  1203.5143 , 41041.914  ,  3161.903  ,  7280.2065 ,\n",
              "       36172.777  ,  3925.7512 ,  3864.7395 ,  1098.5837 , 12864.2    ,\n",
              "       10786.001  ,  3987.564  , 15631.936  , 47509.684  , 16366.302  ,\n",
              "       10299.226  , 13212.559  , 29702.92   , 11599.503  , 10925.828  ,\n",
              "        7038.2666 , 10905.812  , 12323.066  ,  9201.852  ,  5637.1147 ,\n",
              "        6951.754  , 39505.746  , 28346.592  ,  5701.595  , 21704.834  ,\n",
              "       23721.98   , 10809.888  ,  5111.366  ,  8242.772  ,  5315.187  ,\n",
              "       10233.07   , 14747.706  ,  5313.73   ,  7175.856  , 10391.632  ,\n",
              "        6827.787  , 17240.484  , 19391.027  , 27378.24   ,  8752.937  ,\n",
              "       18242.475  , 11961.098  ,  3254.3105 ,  7149.773  , 11475.528  ,\n",
              "       39707.88   , 45144.543  , 10999.699  , 42649.242  , 34717.027  ,\n",
              "       22276.783  , 14753.09   , 16717.262  ,  1149.3932 ,  3979.0254 ,\n",
              "       19306.318  , 11313.751  ], dtype=float32)"
            ]
          },
          "metadata": {},
          "execution_count": 44
        }
      ]
    },
    {
      "cell_type": "code",
      "source": [
        "print(\"mean absolute error:\",mean_absolute_error(y_test,y_pred4))\n",
        "print(\"mean squared error:\",mean_squared_error(y_test,y_pred4))\n",
        "print(\"root mean squared error:\",np.sqrt(mean_squared_error(y_test,y_pred4)))\n",
        "print(\"R2 score:\",r2_score(y_test,y_pred4))"
      ],
      "metadata": {
        "colab": {
          "base_uri": "https://localhost:8080/"
        },
        "id": "rbfyhK-Tfvwc",
        "outputId": "7fb4a7b5-5490-494d-fbb1-4ab252f17570"
      },
      "execution_count": null,
      "outputs": [
        {
          "output_type": "stream",
          "name": "stdout",
          "text": [
            "mean absolute error: 3042.9136164413285\n",
            "mean squared error: 27529065.7368559\n",
            "root mean squared error: 5246.814818235526\n",
            "R2 score: 0.805745751929367\n"
          ]
        }
      ]
    },
    {
      "cell_type": "markdown",
      "source": [
        "**Here we can see that Gradient Boost model is more eficient than any other model.**"
      ],
      "metadata": {
        "id": "Uuu8aKf11zI6"
      }
    }
  ]
}